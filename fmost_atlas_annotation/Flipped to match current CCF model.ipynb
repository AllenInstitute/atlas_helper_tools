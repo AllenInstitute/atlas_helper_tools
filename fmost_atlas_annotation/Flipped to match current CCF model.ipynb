{
 "cells": [
  {
   "cell_type": "code",
   "execution_count": 1,
   "metadata": {},
   "outputs": [],
   "source": [
    "import SimpleITK as sitk\n",
    "import os\n",
    "import glob"
   ]
  },
  {
   "cell_type": "code",
   "execution_count": 2,
   "metadata": {},
   "outputs": [],
   "source": [
    "input_path = \"C:/Users/lydia/OneDrive/Work/DigitalAssets/_UPENN_fMOST/transgenic_lines/fixed_headers\"\n",
    "output_path = \"C:/Users/lydia/OneDrive/Work/DigitalAssets/_UPENN_fMOST/transgenic_lines/flipped\"\n",
    "\n",
    "model_directory = \"C:/Users/lydia/OneDrive/Work/DigitalAssets/_UPENN_fMOST/\"\n",
    "reference_file = os.path.join( model_directory, \"25um_V3\", \"CCFTemplate25umLabels.nii.gz\")"
   ]
  },
  {
   "cell_type": "code",
   "execution_count": 3,
   "metadata": {},
   "outputs": [],
   "source": [
    "# collate input and output files\n",
    "files = {}\n",
    "template = '*.nii.gz'\n",
    "\n",
    "for f in glob.glob( os.path.join( input_path, template )) :\n",
    "\n",
    "    bname = os.path.basename(f)\n",
    "    outf = os.path.join(output_path,bname)\n",
    "    files[f] = outf\n"
   ]
  },
  {
   "cell_type": "code",
   "execution_count": 4,
   "metadata": {},
   "outputs": [],
   "source": [
    "# open references\n",
    "ref = sitk.ReadImage( reference_file )"
   ]
  },
  {
   "cell_type": "code",
   "execution_count": 5,
   "metadata": {},
   "outputs": [
    {
     "name": "stdout",
     "output_type": "stream",
     "text": [
      "converting C:/Users/lydia/OneDrive/Work/DigitalAssets/_UPENN_fMOST/transgenic_lines/fixed_headers\\539813642_resampled_blue.nii.gz\n",
      "converting C:/Users/lydia/OneDrive/Work/DigitalAssets/_UPENN_fMOST/transgenic_lines/fixed_headers\\539813642_resampled_green.nii.gz\n",
      "converting C:/Users/lydia/OneDrive/Work/DigitalAssets/_UPENN_fMOST/transgenic_lines/fixed_headers\\539813642_resampled_red.nii.gz\n",
      "converting C:/Users/lydia/OneDrive/Work/DigitalAssets/_UPENN_fMOST/transgenic_lines/fixed_headers\\541489545_resampled_blue.nii.gz\n",
      "converting C:/Users/lydia/OneDrive/Work/DigitalAssets/_UPENN_fMOST/transgenic_lines/fixed_headers\\541489545_resampled_green.nii.gz\n",
      "converting C:/Users/lydia/OneDrive/Work/DigitalAssets/_UPENN_fMOST/transgenic_lines/fixed_headers\\541489545_resampled_red.nii.gz\n",
      "converting C:/Users/lydia/OneDrive/Work/DigitalAssets/_UPENN_fMOST/transgenic_lines/fixed_headers\\541728841_resampled_blue.nii.gz\n",
      "converting C:/Users/lydia/OneDrive/Work/DigitalAssets/_UPENN_fMOST/transgenic_lines/fixed_headers\\541728841_resampled_green.nii.gz\n",
      "converting C:/Users/lydia/OneDrive/Work/DigitalAssets/_UPENN_fMOST/transgenic_lines/fixed_headers\\541728841_resampled_red.nii.gz\n",
      "converting C:/Users/lydia/OneDrive/Work/DigitalAssets/_UPENN_fMOST/transgenic_lines/fixed_headers\\570994466_resampled_blue.nii.gz\n",
      "converting C:/Users/lydia/OneDrive/Work/DigitalAssets/_UPENN_fMOST/transgenic_lines/fixed_headers\\570994466_resampled_green.nii.gz\n",
      "converting C:/Users/lydia/OneDrive/Work/DigitalAssets/_UPENN_fMOST/transgenic_lines/fixed_headers\\570994466_resampled_red.nii.gz\n",
      "converting C:/Users/lydia/OneDrive/Work/DigitalAssets/_UPENN_fMOST/transgenic_lines/fixed_headers\\average_template_25.nii.gz\n"
     ]
    }
   ],
   "source": [
    "# process input files\n",
    "\n",
    "for inf in files :\n",
    "    \n",
    "    print(\"converting %s\" % inf)\n",
    "    \n",
    "    vol = sitk.ReadImage(inf)\n",
    "\n",
    "    # permute and flip\n",
    "    permuted = sitk.PermuteAxes( vol, (2,0,1))\n",
    "    flipped = sitk.Flip( permuted, (False,True,True))\n",
    "\n",
    "    # copy information from reference\n",
    "    flipped.CopyInformation( ref )\n",
    "\n",
    "    #\n",
    "    # save file to output directory\n",
    "    #\n",
    "    sitk.WriteImage( flipped, files[inf], True )\n",
    "\n"
   ]
  },
  {
   "cell_type": "code",
   "execution_count": null,
   "metadata": {},
   "outputs": [],
   "source": []
  }
 ],
 "metadata": {
  "kernelspec": {
   "display_name": "Python 3",
   "language": "python",
   "name": "python3"
  },
  "language_info": {
   "codemirror_mode": {
    "name": "ipython",
    "version": 3
   },
   "file_extension": ".py",
   "mimetype": "text/x-python",
   "name": "python",
   "nbconvert_exporter": "python",
   "pygments_lexer": "ipython3",
   "version": "3.8.5"
  }
 },
 "nbformat": 4,
 "nbformat_minor": 4
}
