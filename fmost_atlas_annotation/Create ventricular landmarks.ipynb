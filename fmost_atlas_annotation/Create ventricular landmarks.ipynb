{
 "cells": [
  {
   "cell_type": "code",
   "execution_count": 8,
   "metadata": {},
   "outputs": [],
   "source": [
    "import SimpleITK as sitk\n",
    "import pandas as pd\n",
    "import os\n",
    "import numpy as np"
   ]
  },
  {
   "cell_type": "code",
   "execution_count": 9,
   "metadata": {},
   "outputs": [],
   "source": [
    "#\n",
    "# open structure properties file\n",
    "#\n",
    "csv_file = 'structure_properties.csv'\n",
    "df = pd.read_csv(csv_file)\n",
    "df.set_index('acronym',inplace=True)"
   ]
  },
  {
   "cell_type": "code",
   "execution_count": 10,
   "metadata": {},
   "outputs": [],
   "source": [
    "#\n",
    "# open annotation file\n",
    "#\n",
    "model_directory = \"C:/Users/lydia/OneDrive/Work/DigitalAssets/_UPENN_fMOST/\"\n",
    "annotation_file = os.path.join( model_directory,  \"25um_V3\", \"CCFTemplate25umLabels.nii.gz\")\n",
    "\n",
    "annotation = sitk.ReadImage( annotation_file )"
   ]
  },
  {
   "cell_type": "code",
   "execution_count": 11,
   "metadata": {},
   "outputs": [],
   "source": [
    "def create_mask( structure, annotation, df, fg = 1 ) :\n",
    "    \n",
    "    slist = df.loc[structure]['substructures']\n",
    "    slist = slist.split('/')\n",
    "    slist = [ int(x) for x in slist ]\n",
    "    \n",
    "    arr = sitk.GetArrayFromImage( annotation )\n",
    "    idx = np.isin(arr,slist)\n",
    "    output = np.zeros(arr.shape,np.uint8)\n",
    "    output[idx] = fg\n",
    "    \n",
    "    output_image = sitk.GetImageFromArray( output )\n",
    "    output_image.CopyInformation( annotation )\n",
    "    \n",
    "    return output_image\n",
    "    "
   ]
  },
  {
   "cell_type": "code",
   "execution_count": 12,
   "metadata": {},
   "outputs": [],
   "source": [
    "root = create_mask('root', annotation, df, fg = 2 )\n",
    "grey = create_mask('grey', annotation, df, fg = 3 )\n",
    "fiber = create_mask( 'fiber tracts', annotation, df, fg = 4)\n",
    "vs = create_mask('VS', annotation, df, fg = 5 )\n",
    "\n",
    "combined = root\n",
    "combined = sitk.Maximum(combined,grey)\n",
    "combined = sitk.Maximum(combined,fiber)\n",
    "combined = sitk.Maximum(combined,vs)"
   ]
  },
  {
   "cell_type": "code",
   "execution_count": 7,
   "metadata": {},
   "outputs": [],
   "source": [
    "sitk.WriteImage( combined, 'test.nii.gz', True)"
   ]
  },
  {
   "cell_type": "code",
   "execution_count": 15,
   "metadata": {},
   "outputs": [],
   "source": [
    "MB = create_mask('MB', annotation, df, fg = 2 )\n",
    "CB = create_mask('CB', annotation, df, fg = 3 )\n",
    "anno = MB\n",
    "anno = sitk.Maximum( anno, CB )"
   ]
  },
  {
   "cell_type": "code",
   "execution_count": 16,
   "metadata": {},
   "outputs": [],
   "source": [
    "sitk.WriteImage( anno, 'anno.nii.gz', True)"
   ]
  },
  {
   "cell_type": "code",
   "execution_count": null,
   "metadata": {},
   "outputs": [],
   "source": []
  }
 ],
 "metadata": {
  "kernelspec": {
   "display_name": "Python 3",
   "language": "python",
   "name": "python3"
  },
  "language_info": {
   "codemirror_mode": {
    "name": "ipython",
    "version": 3
   },
   "file_extension": ".py",
   "mimetype": "text/x-python",
   "name": "python",
   "nbconvert_exporter": "python",
   "pygments_lexer": "ipython3",
   "version": "3.8.5"
  }
 },
 "nbformat": 4,
 "nbformat_minor": 4
}
