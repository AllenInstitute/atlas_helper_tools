{
 "cells": [
  {
   "cell_type": "code",
   "execution_count": 1,
   "metadata": {},
   "outputs": [],
   "source": [
    "import SimpleITK as sitk\n",
    "import pandas as pd\n",
    "import os\n",
    "import numpy as np"
   ]
  },
  {
   "cell_type": "code",
   "execution_count": 2,
   "metadata": {},
   "outputs": [],
   "source": [
    "#\n",
    "# open structure properties file\n",
    "#\n",
    "csv_file = 'structure_properties.csv'\n",
    "df = pd.read_csv(csv_file)\n",
    "df.set_index('acronym',inplace=True)"
   ]
  },
  {
   "cell_type": "code",
   "execution_count": 3,
   "metadata": {},
   "outputs": [],
   "source": [
    "#\n",
    "# open annotation file\n",
    "#\n",
    "model_directory = \"C:/Users/lydia/OneDrive/Work/DigitalAssets/_UPENN_fMOST/\"\n",
    "annotation_file = os.path.join( model_directory,  \"25um_V3\", \"CCFTemplate25umLabels.nii.gz\")\n",
    "\n",
    "annotation = sitk.ReadImage( annotation_file )"
   ]
  },
  {
   "cell_type": "code",
   "execution_count": 4,
   "metadata": {},
   "outputs": [],
   "source": [
    "def create_mask( structure, annotation, df, fg = 1 ) :\n",
    "    \n",
    "    slist = df.loc[structure]['substructures']\n",
    "    slist = slist.split('/')\n",
    "    slist = [ int(x) for x in slist ]\n",
    "    \n",
    "    arr = sitk.GetArrayFromImage( annotation )\n",
    "    idx = np.isin(arr,slist)\n",
    "    output = np.zeros(arr.shape,np.uint16)\n",
    "    output[idx] = fg\n",
    "    \n",
    "    output_image = sitk.GetImageFromArray( output )\n",
    "    output_image.CopyInformation( annotation )    \n",
    "    return output_image"
   ]
  },
  {
   "cell_type": "code",
   "execution_count": 5,
   "metadata": {},
   "outputs": [],
   "source": [
    "def overlay( base, image ) :\n",
    "    \n",
    "    barr = sitk.GetArrayFromImage( base )\n",
    "    iarr = sitk.GetArrayFromImage( image )\n",
    "    \n",
    "    idx = np.where( iarr > 0 )\n",
    "    barr[idx] = iarr[idx]\n",
    "    \n",
    "    output_image = sitk.GetImageFromArray( barr )\n",
    "    output_image.CopyInformation( base )    \n",
    "    return output_image"
   ]
  },
  {
   "cell_type": "code",
   "execution_count": 6,
   "metadata": {},
   "outputs": [],
   "source": [
    "def set_foreground_value( image, fg ) :\n",
    "    \n",
    "    arr = sitk.GetArrayFromImage( image )\n",
    "    idx = np.where( arr > 0 )\n",
    "    arr[idx] = fg\n",
    "    \n",
    "    output_image = sitk.GetImageFromArray( arr )\n",
    "    output_image.CopyInformation( image )    \n",
    "    return output_image    "
   ]
  },
  {
   "cell_type": "code",
   "execution_count": 7,
   "metadata": {},
   "outputs": [],
   "source": [
    "def interface( image1, image2, fg ) :\n",
    "\n",
    "    mask1 = set_foreground_value( image1, fg )\n",
    "    mask2 = set_foreground_value( image2, fg )\n",
    "    \n",
    "    mask1 = sitk.BinaryDilate( mask1, (1,1,1), sitk.sitkBall, 0, fg )\n",
    "    mask2 = sitk.BinaryDilate( mask2, (1,1,1), sitk.sitkBall, 0, fg )\n",
    "    \n",
    "    arr1 = sitk.GetArrayFromImage( mask1 )\n",
    "    arr2 = sitk.GetArrayFromImage( mask2 )\n",
    "    \n",
    "    idx = np.logical_and( arr1 == fg, arr2  == fg )\n",
    "    output = np.zeros(arr1.shape,np.uint16)\n",
    "    output[idx] = fg\n",
    " \n",
    "    output_image = sitk.GetImageFromArray( output )\n",
    "    output_image.CopyInformation( mask1 )    \n",
    "    return output_image"
   ]
  },
  {
   "cell_type": "code",
   "execution_count": 8,
   "metadata": {},
   "outputs": [],
   "source": [
    "root = create_mask('root', annotation, df, fg = 2 )\n",
    "grey = create_mask('grey', annotation, df, fg = 3 )\n",
    "fiber_tracts = create_mask( 'fiber tracts', annotation, df, fg = 4)\n",
    "VS = create_mask('VS', annotation, df, fg = 5 )"
   ]
  },
  {
   "cell_type": "code",
   "execution_count": 9,
   "metadata": {
    "scrolled": true
   },
   "outputs": [],
   "source": [
    "MB = create_mask('MB', annotation, df, fg = 3 )\n",
    "CB = create_mask('CB', annotation, df, fg = 3 )\n",
    "MB_CB_interface = interface( MB, CB, fg = 2 )"
   ]
  },
  {
   "cell_type": "code",
   "execution_count": 10,
   "metadata": {},
   "outputs": [],
   "source": [
    "PAG = create_mask('PAG', annotation, df, fg = 3 )\n",
    "CBX = create_mask('CBX', annotation, df, fg = 3 )\n",
    "PAG_CBX_interface = interface( PAG, CBX, fg = 5 )"
   ]
  },
  {
   "cell_type": "code",
   "execution_count": 11,
   "metadata": {},
   "outputs": [],
   "source": [
    "P = create_mask('P', annotation, df, fg = 3 )\n",
    "P_CBX_interface = interface( P, CBX, fg = 5 )"
   ]
  },
  {
   "cell_type": "code",
   "execution_count": 12,
   "metadata": {},
   "outputs": [],
   "source": [
    "MY = create_mask('MY', annotation, df, fg = 3 )\n",
    "MY_CBX_interface = interface( MY, CBX, fg = 2 )"
   ]
  },
  {
   "cell_type": "code",
   "execution_count": 13,
   "metadata": {},
   "outputs": [],
   "source": [
    "CTXpl = create_mask('CTXpl', annotation, df, fg = 3 )\n",
    "MB_CTXpl_interface = interface( MB, CTXpl, fg = 2 )"
   ]
  },
  {
   "cell_type": "code",
   "execution_count": 14,
   "metadata": {},
   "outputs": [],
   "source": [
    "TH = create_mask('TH', annotation, df, fg = 3 )\n",
    "TH_CTXpl_interface = interface( TH, CTXpl, fg = 2 )"
   ]
  },
  {
   "cell_type": "code",
   "execution_count": 15,
   "metadata": {},
   "outputs": [],
   "source": [
    "bsc = create_mask('bsc', annotation, df, fg = 4 )\n",
    "bsc_as_root = set_foreground_value( bsc, fg = 2)"
   ]
  },
  {
   "cell_type": "code",
   "execution_count": 16,
   "metadata": {},
   "outputs": [],
   "source": [
    "hbc = create_mask('hbc', annotation, df, fg = 4 )\n",
    "hbc_as_VS = set_foreground_value( hbc, fg = 5)"
   ]
  },
  {
   "cell_type": "code",
   "execution_count": 17,
   "metadata": {},
   "outputs": [],
   "source": [
    "fi = create_mask('fi', annotation, df, fg = 6 )\n",
    "chpl = create_mask('chpl', annotation, df, fg = 7 )"
   ]
  },
  {
   "cell_type": "code",
   "execution_count": 18,
   "metadata": {},
   "outputs": [],
   "source": [
    "V3 = create_mask('V3', annotation, df, fg = 5 )\n",
    "V3_as_root = set_foreground_value( V3, fg = 2)"
   ]
  },
  {
   "cell_type": "code",
   "execution_count": 19,
   "metadata": {},
   "outputs": [],
   "source": [
    "combined = overlay( root, grey )\n",
    "combined = overlay( combined, MB_CB_interface )\n",
    "combined = overlay( combined, PAG_CBX_interface )\n",
    "combined = overlay( combined, P_CBX_interface )\n",
    "combined = overlay( combined, MY_CBX_interface )\n",
    "combined = overlay( combined, MB_CTXpl_interface )\n",
    "combined = overlay( combined, TH_CTXpl_interface )\n",
    "combined = overlay(combined,fiber_tracts)\n",
    "combined = overlay( combined, bsc_as_root )\n",
    "combined = overlay( combined, hbc_as_VS )\n",
    "combined = overlay( combined, fi )\n",
    "combined = overlay(combined,VS)\n",
    "combined = overlay( combined, V3_as_root )\n",
    "combined = overlay( combined, chpl )"
   ]
  },
  {
   "cell_type": "code",
   "execution_count": 20,
   "metadata": {},
   "outputs": [],
   "source": [
    "sitk.WriteImage( combined, 'combined.nii.gz', True)"
   ]
  },
  {
   "cell_type": "code",
   "execution_count": null,
   "metadata": {},
   "outputs": [],
   "source": []
  },
  {
   "cell_type": "code",
   "execution_count": null,
   "metadata": {},
   "outputs": [],
   "source": []
  }
 ],
 "metadata": {
  "kernelspec": {
   "display_name": "Python 3",
   "language": "python",
   "name": "python3"
  },
  "language_info": {
   "codemirror_mode": {
    "name": "ipython",
    "version": 3
   },
   "file_extension": ".py",
   "mimetype": "text/x-python",
   "name": "python",
   "nbconvert_exporter": "python",
   "pygments_lexer": "ipython3",
   "version": "3.8.5"
  }
 },
 "nbformat": 4,
 "nbformat_minor": 4
}
