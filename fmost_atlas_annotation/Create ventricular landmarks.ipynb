{
 "cells": [
  {
   "cell_type": "code",
   "execution_count": 1,
   "metadata": {},
   "outputs": [],
   "source": [
    "import SimpleITK as sitk\n",
    "import pandas as pd\n",
    "import os\n",
    "import numpy as np\n",
    "import matplotlib.colors as mcolors\n",
    "import csv"
   ]
  },
  {
   "cell_type": "code",
   "execution_count": 2,
   "metadata": {},
   "outputs": [],
   "source": [
    "#\n",
    "# open structure properties file\n",
    "#\n",
    "csv_file = 'structure_properties.csv'\n",
    "df = pd.read_csv(csv_file)\n",
    "df.set_index('acronym',inplace=True)"
   ]
  },
  {
   "cell_type": "code",
   "execution_count": 3,
   "metadata": {},
   "outputs": [],
   "source": [
    "# output directory\n",
    "output_directory = 'landmarks_v05/ccf_annotation'"
   ]
  },
  {
   "cell_type": "code",
   "execution_count": 4,
   "metadata": {},
   "outputs": [],
   "source": [
    "#\n",
    "# open annotation file\n",
    "#\n",
    "model_directory = \"C:/Users/lydia/OneDrive/Work/DigitalAssets/_UPENN_fMOST/\"\n",
    "annotation_file = os.path.join( model_directory,  \"25um_V3\", \"CCFTemplate25umLabels.nii.gz\")\n",
    "\n",
    "annotation = sitk.ReadImage( annotation_file )"
   ]
  },
  {
   "cell_type": "code",
   "execution_count": 5,
   "metadata": {},
   "outputs": [],
   "source": [
    "def create_mask( structure, annotation, df, fg = 1 ) :\n",
    "    \n",
    "    slist = df.loc[structure]['substructures']\n",
    "    slist = slist.split('/')\n",
    "    slist = [ int(x) for x in slist ]\n",
    "    \n",
    "    arr = sitk.GetArrayFromImage( annotation )\n",
    "    idx = np.isin(arr,slist)\n",
    "    output = np.zeros(arr.shape,np.uint16)\n",
    "    output[idx] = fg\n",
    "    \n",
    "    output_image = sitk.GetImageFromArray( output )\n",
    "    output_image.CopyInformation( annotation )    \n",
    "    return output_image"
   ]
  },
  {
   "cell_type": "code",
   "execution_count": 6,
   "metadata": {},
   "outputs": [],
   "source": [
    "def overlay( base, image ) :\n",
    "    \n",
    "    barr = sitk.GetArrayFromImage( base )\n",
    "    iarr = sitk.GetArrayFromImage( image )\n",
    "    \n",
    "    idx = np.where( iarr > 0 )\n",
    "    barr[idx] = iarr[idx]\n",
    "    \n",
    "    output_image = sitk.GetImageFromArray( barr )\n",
    "    output_image.CopyInformation( base )    \n",
    "    return output_image"
   ]
  },
  {
   "cell_type": "code",
   "execution_count": 7,
   "metadata": {},
   "outputs": [],
   "source": [
    "def set_foreground_value( image, fg ) :\n",
    "    \n",
    "    arr = sitk.GetArrayFromImage( image )\n",
    "    idx = np.where( arr > 0 )\n",
    "    arr[idx] = fg\n",
    "    \n",
    "    output_image = sitk.GetImageFromArray( arr )\n",
    "    output_image.CopyInformation( image )    \n",
    "    return output_image    "
   ]
  },
  {
   "cell_type": "code",
   "execution_count": 8,
   "metadata": {},
   "outputs": [],
   "source": [
    "def change_value( image, old_value, new_value ) :\n",
    "    \n",
    "    arr = sitk.GetArrayFromImage( image )\n",
    "    idx = np.where( arr == old_value )\n",
    "    arr[idx] = new_value\n",
    "    \n",
    "    output_image = sitk.GetImageFromArray( arr )\n",
    "    output_image.CopyInformation( image )    \n",
    "    return output_image  "
   ]
  },
  {
   "cell_type": "code",
   "execution_count": 9,
   "metadata": {},
   "outputs": [],
   "source": [
    "def interface( image1, image2, fg ) :\n",
    "\n",
    "    mask1 = set_foreground_value( image1, fg )\n",
    "    mask2 = set_foreground_value( image2, fg )\n",
    "    \n",
    "    mask1 = sitk.BinaryDilate( mask1, (1,1,1), sitk.sitkBall, 0, fg )\n",
    "    mask2 = sitk.BinaryDilate( mask2, (1,1,1), sitk.sitkBall, 0, fg )\n",
    "    \n",
    "    arr1 = sitk.GetArrayFromImage( mask1 )\n",
    "    arr2 = sitk.GetArrayFromImage( mask2 )\n",
    "    \n",
    "    idx = np.logical_and( arr1 == fg, arr2  == fg )\n",
    "    output = np.zeros(arr1.shape,np.uint16)\n",
    "    output[idx] = fg\n",
    " \n",
    "    output_image = sitk.GetImageFromArray( output )\n",
    "    output_image.CopyInformation( mask1 )    \n",
    "    return output_image"
   ]
  },
  {
   "cell_type": "code",
   "execution_count": 10,
   "metadata": {},
   "outputs": [],
   "source": [
    "def overlap( image1, image2, fg ) :\n",
    "    \n",
    "    mask1 = set_foreground_value( image1, fg )\n",
    "    mask2 = set_foreground_value( image2, fg )\n",
    "    \n",
    "    arr1 = sitk.GetArrayFromImage( mask1 )\n",
    "    arr2 = sitk.GetArrayFromImage( mask2 )\n",
    "    \n",
    "    idx = np.logical_and( arr1 == fg, arr2  == fg )\n",
    "    output = np.zeros(arr1.shape,np.uint16)\n",
    "    output[idx] = fg\n",
    " \n",
    "    output_image = sitk.GetImageFromArray( output )\n",
    "    output_image.CopyInformation( mask1 )    \n",
    "    return output_image    "
   ]
  },
  {
   "cell_type": "code",
   "execution_count": 11,
   "metadata": {},
   "outputs": [],
   "source": [
    "def connected_components( image, size_threshold = 1000, fg = 1 ) :\n",
    "    \n",
    "    components = sitk.ConnectedComponent( image, True )\n",
    "    arr = sitk.GetArrayFromImage( components )\n",
    "    values, counts = np.unique( arr, return_counts = True )\n",
    "    \n",
    "    # order these by size descending\n",
    "    ind = np.argsort(counts)\n",
    "    values = values[np.flip(ind)]\n",
    "    counts = counts[np.flip(ind)]\n",
    "    \n",
    "    output_images = []\n",
    "    \n",
    "    for v,c in zip(values,counts) :\n",
    "        \n",
    "        # exclude zero label\n",
    "        if v == 0 :\n",
    "            continue\n",
    "        \n",
    "        # remove components with size below threshold\n",
    "        if c < 1000 :\n",
    "            continue\n",
    "            \n",
    "        # create an image for the label\n",
    "        idx = np.where( arr == v )\n",
    "        output = np.zeros( arr.shape, np.uint16 )\n",
    "        output[idx] = fg\n",
    "        \n",
    "        img = sitk.GetImageFromArray( output )\n",
    "        img.CopyInformation( image )\n",
    "        output_images.append( img )\n",
    "        \n",
    "    return output_images\n",
    "    "
   ]
  },
  {
   "cell_type": "code",
   "execution_count": 12,
   "metadata": {},
   "outputs": [],
   "source": [
    "labels = {}\n",
    "labels['Clear Label'] = (0, 'black')\n",
    "labels['mid sagittal'] = ( 1, 'orangered' )\n",
    "labels['root'] = ( 2, 'firebrick' )\n",
    "labels['grey'] = (3, 'darkslateblue')\n",
    "labels['fiber tracts'] = (4, 'olive')\n",
    "labels['VS'] = (5, 'lime')\n",
    "labels['fi'] = (6, 'gold')\n",
    "labels['chpl'] = (7, 'salmon' )\n",
    "labels['hbc'] = (8, 'springgreen' )\n",
    "labels['chpl posterior'] = ( 9, 'blueviolet' )\n",
    "labels['chpl lateral'] = ( 10, 'aqua' )\n",
    "labels['chpl anterior'] = ( 11, 'orchid' )\n",
    "labels['och opt'] = (12, 'dodgerblue')\n",
    "labels['CP cc'] = (13, 'lightseagreen')\n",
    "labels['CA DG ProS HATA SUB'] = (14, 'crimson')"
   ]
  },
  {
   "cell_type": "code",
   "execution_count": 13,
   "metadata": {},
   "outputs": [],
   "source": [
    "#\n",
    "# create label file for ITK-SNAP\n",
    "#\n",
    "columns=['index','red','green','blue','transparency','2d_visibility','3d_visibility','label']\n",
    "snap_df = pd.DataFrame( columns=columns)\n",
    "snap_df['label'] = list(labels.keys())\n",
    "snap_df['transparency'] = 1\n",
    "snap_df['2d_visibility'] = 1\n",
    "snap_df['3d_visibility'] = 1\n",
    "snap_df.set_index('label', inplace=True)\n",
    "\n",
    "for k in labels :\n",
    "\n",
    "    snap_df.loc[k,'index'] = labels[k][0]\n",
    "    rgb = mcolors.to_rgb(labels[k][1])\n",
    "    \n",
    "    snap_df.loc[k,'red'] = int(rgb[0] * 255)\n",
    "    snap_df.loc[k,'green'] = int(rgb[1] * 255)\n",
    "    snap_df.loc[k,'blue'] = int(rgb[2] * 255)\n",
    "    \n",
    "snap_df.reset_index(inplace=True)\n",
    "snap_df = snap_df.reindex(columns=columns)\n",
    "\n",
    "snap_df.to_csv(os.path.join(output_directory,'landmark_description.txt'), index=False, header=False, sep=\"\\t\", quoting=csv.QUOTE_NONNUMERIC)"
   ]
  },
  {
   "cell_type": "code",
   "execution_count": 14,
   "metadata": {},
   "outputs": [],
   "source": [
    "#\n",
    "# -- midsagittal mask\n",
    "#\n",
    "mid_sagittal = sitk.Image(annotation.GetSize(), sitk.sitkUInt16)\n",
    "mid_sagittal[:,:,:] = 0\n",
    "mid_sagittal[227:229,:,:] = labels['mid sagittal'][0]"
   ]
  },
  {
   "cell_type": "code",
   "execution_count": 15,
   "metadata": {},
   "outputs": [],
   "source": [
    "#\n",
    "# --- main classes: root/outside, grey matter, fiber tracts and ventricular system\n",
    "#\n",
    "root = create_mask('root', annotation, df, labels['root'][0] )\n",
    "grey = create_mask('grey', annotation, df, labels['grey'][0] )\n",
    "fiber_tracts = create_mask( 'fiber tracts', annotation, df, labels['fiber tracts'][0] )\n",
    "VS = create_mask('VS', annotation, df, labels['VS'][0] )"
   ]
  },
  {
   "cell_type": "code",
   "execution_count": 16,
   "metadata": {},
   "outputs": [],
   "source": [
    "#\n",
    "# -- clean up stray annotation in root map\n",
    "#\n",
    "root[222:235,286:339,75:130] = labels['grey'][0]\n",
    "root[220:236,286:304,171:204] = labels['grey'][0]"
   ]
  },
  {
   "cell_type": "code",
   "execution_count": 17,
   "metadata": {
    "scrolled": true
   },
   "outputs": [],
   "source": [
    "# --- reclass the interface of MB and CB as root/outside\n",
    "MB = create_mask('MB', annotation, df, labels['grey'][0] )\n",
    "CB = create_mask('CB', annotation, df, labels['grey'][0] )\n",
    "MB_CB_interface = interface( MB, CB, fg = labels['root'][0] )"
   ]
  },
  {
   "cell_type": "code",
   "execution_count": 18,
   "metadata": {},
   "outputs": [],
   "source": [
    "# --- reclass the interface of PAG and CBX as ventricles\n",
    "PAG = create_mask('PAG', annotation, df, labels['grey'][0] )\n",
    "CBX = create_mask('CBX', annotation, df, labels['grey'][0] )\n",
    "PAG_CBX_interface = interface( PAG, CBX, labels['VS'][0] )"
   ]
  },
  {
   "cell_type": "code",
   "execution_count": 19,
   "metadata": {},
   "outputs": [],
   "source": [
    "# -- reclass the interface of P and CBX as ventricles\n",
    "P = create_mask('P', annotation, df, labels['grey'][0] )\n",
    "P_CBX_interface = interface( P, CBX, labels['VS'][0] )"
   ]
  },
  {
   "cell_type": "code",
   "execution_count": 20,
   "metadata": {},
   "outputs": [],
   "source": [
    "# -- reclass the interface of MY and CBX as root/outside\n",
    "MY = create_mask('MY', annotation, df, labels['grey'][0] )\n",
    "MY_CBX_interface = interface( MY, CBX, labels['root'][0] )"
   ]
  },
  {
   "cell_type": "code",
   "execution_count": 21,
   "metadata": {},
   "outputs": [],
   "source": [
    "# -- reclass the interface of CTXpl and MB as root/outside\n",
    "CTXpl = create_mask('CTXpl', annotation, df, labels['grey'][0] )\n",
    "MB_CTXpl_interface = interface( MB, CTXpl, labels['root'][0] )"
   ]
  },
  {
   "cell_type": "code",
   "execution_count": 22,
   "metadata": {},
   "outputs": [],
   "source": [
    "# -- reclass the interface of TH and CTXpl as root/outside\n",
    "TH = create_mask('TH', annotation, df, labels['grey'][0] )\n",
    "TH_CTXpl_interface = interface( TH, CTXpl, labels['root'][0] )"
   ]
  },
  {
   "cell_type": "code",
   "execution_count": 23,
   "metadata": {},
   "outputs": [],
   "source": [
    "# -- reclass PVpo on the mid-sagittal mask to VS\n",
    "PVpo = create_mask('PVpo', annotation, df, labels['grey'][0])\n",
    "PVpo_mid_sagittal_masked = overlap( PVpo, mid_sagittal, labels['VS'][0] )"
   ]
  },
  {
   "cell_type": "code",
   "execution_count": 24,
   "metadata": {},
   "outputs": [],
   "source": [
    "# -- reclass OLF on the mid-sagittal mask to root/outside\n",
    "OLF = create_mask('OLF', annotation, df, labels['grey'][0])\n",
    "OLF_mid_sagittal_masked = overlap( OLF, mid_sagittal, labels['root'][0] )"
   ]
  },
  {
   "cell_type": "code",
   "execution_count": 25,
   "metadata": {},
   "outputs": [],
   "source": [
    "# -- reclass the bsc as root/outside\n",
    "bsc = create_mask('bsc', annotation, df, labels['fiber tracts'][0] )\n",
    "bsc_as_root = set_foreground_value( bsc, labels['root'][0] )"
   ]
  },
  {
   "cell_type": "code",
   "execution_count": 26,
   "metadata": {},
   "outputs": [],
   "source": [
    "# --make fimbra a distinct landmark\n",
    "fi = create_mask('fi', annotation, df, labels['fi'][0] )"
   ]
  },
  {
   "cell_type": "code",
   "execution_count": 27,
   "metadata": {},
   "outputs": [],
   "source": [
    "# -- make hbc a distinct landmark\n",
    "hbc = create_mask('hbc', annotation, df, labels['hbc'][0] )"
   ]
  },
  {
   "cell_type": "code",
   "execution_count": 28,
   "metadata": {},
   "outputs": [],
   "source": [
    "# -- make och + opt a distinct landmark\n",
    "och = create_mask('och', annotation, df, labels['och opt'][0] )\n",
    "opt = create_mask('opt', annotation, df, labels['och opt'][0] )"
   ]
  },
  {
   "cell_type": "code",
   "execution_count": 29,
   "metadata": {},
   "outputs": [],
   "source": [
    "# - divide choriod plexeus into 3 distinct landmarks\n",
    "# -- posterior (largest)\n",
    "# -- lateral (reunify the component in each hemisphere)\n",
    "# -- anterior (smallest above threshold)\n",
    "chpl = create_mask('chpl', annotation, df, labels['chpl'][0] )\n",
    "\n",
    "components = connected_components( chpl, 1000, labels['chpl'][0] )\n",
    "chpl_posterior = set_foreground_value( components[0], labels['chpl posterior'][0] )\n",
    "chpl_lateral = set_foreground_value( overlay( components[1], components[2] ), labels['chpl lateral'][0] )\n",
    "chpl_anterior = set_foreground_value( components[3], labels['chpl anterior'][0] )"
   ]
  },
  {
   "cell_type": "code",
   "execution_count": 30,
   "metadata": {},
   "outputs": [],
   "source": [
    "# -- mnake CP + cc a distinct landmark\n",
    "CP = create_mask('CP', annotation, df, labels['CP cc'][0])\n",
    "fa = create_mask('fa', annotation, df, labels['CP cc'][0])\n",
    "ccg = create_mask('ccg', annotation, df, labels['CP cc'][0])\n",
    "ccb = create_mask('ccb', annotation, df, labels['CP cc'][0])\n",
    "ccs = create_mask('ccs', annotation, df, labels['CP cc'][0])\n",
    "fp = create_mask('fp', annotation, df, labels['CP cc'][0])\n",
    "\n",
    "# -- mask out for any section posterior to 222\n",
    "CP[:,:222,:] = 0\n",
    "fa[:,:222,:] = 0\n",
    "ccg[:,:222,:] = 0\n",
    "ccb[:,:222,:] = 0\n",
    "ccs[:,:222,:] = 0\n",
    "fp[:,:222,:] = 0"
   ]
  },
  {
   "cell_type": "code",
   "execution_count": 31,
   "metadata": {},
   "outputs": [],
   "source": [
    "# -- mnake CA+DG+SUB distinct landmark\n",
    "CA = create_mask('CA', annotation, df, labels['CA DG ProS HATA SUB'][0])\n",
    "DG = create_mask('DG', annotation, df, labels['CA DG ProS HATA SUB'][0])\n",
    "SUB = create_mask('SUB', annotation, df, labels['CA DG ProS HATA SUB'][0])\n",
    "ProS = create_mask('ProS', annotation, df, labels['CA DG ProS HATA SUB'][0])\n",
    "HATA = create_mask('HATA', annotation, df, labels['CA DG ProS HATA SUB'][0])"
   ]
  },
  {
   "cell_type": "code",
   "execution_count": 32,
   "metadata": {},
   "outputs": [],
   "source": [
    "# -- combined the landmarks into single volume\n",
    "combined = overlay( root,     grey )\n",
    "combined = overlay( combined, MB_CB_interface )\n",
    "combined = overlay( combined, PAG_CBX_interface )\n",
    "combined = overlay( combined, P_CBX_interface )\n",
    "combined = overlay( combined, MY_CBX_interface )\n",
    "combined = overlay( combined, MB_CTXpl_interface )\n",
    "combined = overlay( combined, TH_CTXpl_interface )\n",
    "combined = overlay( combined, PVpo_mid_sagittal_masked )\n",
    "combined = overlay( combined, OLF_mid_sagittal_masked )\n",
    "combined = overlay( combined, fiber_tracts)\n",
    "combined = overlay( combined, bsc_as_root )\n",
    "combined = overlay( combined, hbc )\n",
    "combined = overlay( combined, fi )\n",
    "combined = overlay( combined, och )\n",
    "combined = overlay( combined, opt )\n",
    "combined = overlay( combined, VS)\n",
    "combined = overlay( combined, chpl_posterior )\n",
    "combined = overlay( combined, chpl_lateral )\n",
    "combined = overlay( combined, chpl_anterior )\n",
    "combined = overlay( combined, CP )\n",
    "combined = overlay( combined, fa )\n",
    "combined = overlay( combined, ccg )\n",
    "combined = overlay( combined, ccb )\n",
    "combined = overlay( combined, ccs )\n",
    "combined = overlay( combined, fp )\n",
    "combined = overlay( combined, CA )\n",
    "combined = overlay( combined, DG )\n",
    "combined = overlay( combined, SUB )\n",
    "combined = overlay( combined, ProS )\n",
    "combined = overlay( combined, HATA )"
   ]
  },
  {
   "cell_type": "code",
   "execution_count": 33,
   "metadata": {},
   "outputs": [],
   "source": [
    "# -- write landmark volume to file\n",
    "sitk.WriteImage( combined, os.path.join(output_directory,'ccf_landmarks.nii.gz'), True)"
   ]
  },
  {
   "cell_type": "code",
   "execution_count": 34,
   "metadata": {},
   "outputs": [],
   "source": [
    "#\n",
    "#  -- create simplified landmarks volume\n",
    "#\n",
    "mappings = {}\n",
    "mappings[\"fiber tracts\"] = 'grey'\n",
    "mappings['VS'] = 'root'\n",
    "mappings['chpl lateral'] = 'root'\n",
    "\n",
    "simplified = combined\n",
    "simplified.MakeUnique()\n",
    "\n",
    "for m in mappings :\n",
    "    \n",
    "    simplified = change_value( simplified, labels[m][0], labels[mappings[m]][0] )"
   ]
  },
  {
   "cell_type": "code",
   "execution_count": 35,
   "metadata": {},
   "outputs": [],
   "source": [
    "# -- write simplified landmark volume to file\n",
    "sitk.WriteImage( simplified, os.path.join(output_directory,'ccf_simplified_landmarks.nii.gz'), True)"
   ]
  },
  {
   "cell_type": "code",
   "execution_count": 36,
   "metadata": {},
   "outputs": [],
   "source": [
    "#\n",
    "# -- fill the background as root\n",
    "#\n",
    "filled = change_value( simplified, 0, labels['root'][0])\n",
    "sitk.WriteImage( filled, os.path.join(output_directory,'ccf_simplified_landmarks_filled.nii.gz'), True)"
   ]
  },
  {
   "cell_type": "code",
   "execution_count": 37,
   "metadata": {},
   "outputs": [],
   "source": [
    "#\n",
    "# -- get outline\n",
    "#\n",
    "mask = sitk.Equal( filled, labels['root'][0] )\n",
    "mask = set_foreground_value( mask, labels['root'][0] )\n",
    "outlined = sitk.BinaryContour( mask, False, 0, labels['root'][0] )\n",
    "sitk.WriteImage( outlined, os.path.join(output_directory,'ccf_outline_with_cuts.nii.gz'), True)"
   ]
  },
  {
   "cell_type": "code",
   "execution_count": null,
   "metadata": {},
   "outputs": [],
   "source": []
  }
 ],
 "metadata": {
  "kernelspec": {
   "display_name": "Python 3",
   "language": "python",
   "name": "python3"
  },
  "language_info": {
   "codemirror_mode": {
    "name": "ipython",
    "version": 3
   },
   "file_extension": ".py",
   "mimetype": "text/x-python",
   "name": "python",
   "nbconvert_exporter": "python",
   "pygments_lexer": "ipython3",
   "version": "3.8.5"
  }
 },
 "nbformat": 4,
 "nbformat_minor": 4
}
