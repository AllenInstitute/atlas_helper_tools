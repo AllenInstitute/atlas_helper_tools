{
 "cells": [
  {
   "cell_type": "code",
   "execution_count": 1,
   "metadata": {},
   "outputs": [],
   "source": [
    "import SimpleITK as sitk\n",
    "import os\n",
    "import glob\n",
    "import json\n",
    "import re"
   ]
  },
  {
   "cell_type": "code",
   "execution_count": 2,
   "metadata": {},
   "outputs": [],
   "source": [
    "input_path = \"C:/Users/lydia/OneDrive/Work/DigitalAssets/_UPENN_fMOST/BIL_DATA/proj/u19zeng/fMOST_downsampled/brain\"\n",
    "output_path = \"C:/Users/lydia/OneDrive/Work/DigitalAssets/_UPENN_fMOST/BIL_DATA/proj/u19zeng/fMOST_downsampled/fixed_headers\""
   ]
  },
  {
   "cell_type": "code",
   "execution_count": 3,
   "metadata": {},
   "outputs": [
    {
     "name": "stdout",
     "output_type": "stream",
     "text": [
      "-  182709\n",
      "-- C:/Users/lydia/OneDrive/Work/DigitalAssets/_UPENN_fMOST/BIL_DATA/proj/u19zeng/fMOST_downsampled/brain\\mouse182709green_xy32z8.tif\n",
      "-  182724\n",
      "-- C:/Users/lydia/OneDrive/Work/DigitalAssets/_UPENN_fMOST/BIL_DATA/proj/u19zeng/fMOST_downsampled/brain\\mouse182724red_xy32z8.tif\n",
      "-- C:/Users/lydia/OneDrive/Work/DigitalAssets/_UPENN_fMOST/BIL_DATA/proj/u19zeng/fMOST_downsampled/brain\\mouse182724green_xy32z8.tif\n",
      "-  191807\n",
      "-- C:/Users/lydia/OneDrive/Work/DigitalAssets/_UPENN_fMOST/BIL_DATA/proj/u19zeng/fMOST_downsampled/brain\\mouse191807red_xy32z8.tif\n",
      "-- C:/Users/lydia/OneDrive/Work/DigitalAssets/_UPENN_fMOST/BIL_DATA/proj/u19zeng/fMOST_downsampled/brain\\mouse191807green_xy32z8.tif\n",
      "-  191812\n",
      "-- C:/Users/lydia/OneDrive/Work/DigitalAssets/_UPENN_fMOST/BIL_DATA/proj/u19zeng/fMOST_downsampled/brain\\mouse191812red_xy32z8.tif\n",
      "-- C:/Users/lydia/OneDrive/Work/DigitalAssets/_UPENN_fMOST/BIL_DATA/proj/u19zeng/fMOST_downsampled/brain\\mouse191812green_xy32z8.tif\n",
      "-  192343\n",
      "-- C:/Users/lydia/OneDrive/Work/DigitalAssets/_UPENN_fMOST/BIL_DATA/proj/u19zeng/fMOST_downsampled/brain\\mouse192343green_xy32z8.tif\n",
      "-  194069\n",
      "-- C:/Users/lydia/OneDrive/Work/DigitalAssets/_UPENN_fMOST/BIL_DATA/proj/u19zeng/fMOST_downsampled/brain\\mouse194069green_xy32z8.tif\n"
     ]
    }
   ],
   "source": [
    "# collate input files\n",
    "samples = {}\n",
    "template = '*.json'\n",
    "\n",
    "for f in glob.glob( os.path.join( input_path, template )) :\n",
    "\n",
    "    # read json file\n",
    "    with open(f,) as jf :\n",
    "        data = json.load(jf)\n",
    "        \n",
    "    sample_id = data['SampleInfo']['SampleID']\n",
    "    print('- ', sample_id)\n",
    "        \n",
    "    samples[sample_id] = data\n",
    "    samples[sample_id]['channels'] = {}\n",
    "    \n",
    "    # parse filenames for channel and downsampling info\n",
    "    for c in ['red','green','blue'] :\n",
    "    \n",
    "        t2 = 'mouse%s%s*.tif' % (sample_id,c) \n",
    "    \n",
    "        for f2 in glob.glob( os.path.join( input_path, t2 )) :\n",
    "        \n",
    "            print('-- ' + f2)\n",
    "            \n",
    "            samples[sample_id]['channels'][c] = {}\n",
    "            samples[sample_id]['channels'][c]['input_path'] = f2\n",
    "            \n",
    "            bname = os.path.basename(f2)\n",
    "            bname = os.path.splitext(bname)[0]\n",
    "            \n",
    "            samples[sample_id]['channels'][c]['output_path'] = os.path.join(output_path, bname + '.nii.gz')\n",
    "            \n",
    "            nums = re.findall('[0-9]+', bname)\n",
    "            \n",
    "            samples[sample_id]['channels'] [c]['downsample'] = [int(nums[1]),int(nums[1]),int(nums[2])]\n",
    "            samples[sample_id]['channels'] [c]['spacing'] = [1,1,1]\n",
    "            \n",
    "            for d in range(3) :\n",
    "                samples[sample_id]['channels'][c]['spacing'][d] = \\\n",
    "                    samples[sample_id]['channels'][c] ['downsample'][d] * \\\n",
    "                    samples[sample_id]['SampleInfo']['VoxelResolution '][d] * \\\n",
    "                    0.001 # in mm    "
   ]
  },
  {
   "cell_type": "code",
   "execution_count": 4,
   "metadata": {},
   "outputs": [
    {
     "name": "stdout",
     "output_type": "stream",
     "text": [
      "converting 182709\n",
      "converting 182724\n",
      "converting 191807\n",
      "converting 191812\n",
      "converting 192343\n",
      "converting 194069\n"
     ]
    }
   ],
   "source": [
    "# process samples\n",
    "\n",
    "for s in samples :\n",
    "    \n",
    "    print(\"converting %s\" % s)\n",
    "    \n",
    "    for c in samples[s]['channels'] :\n",
    "    \n",
    "        info = samples[s]['channels'][c]\n",
    "        vol = sitk.ReadImage(info['input_path'])\n",
    "        vol.SetSpacing( info['spacing'])\n",
    "    \n",
    "        #\n",
    "        # save file to output directory\n",
    "        #\n",
    "        sitk.WriteImage( vol, info['output_path'], True )\n"
   ]
  },
  {
   "cell_type": "code",
   "execution_count": null,
   "metadata": {},
   "outputs": [],
   "source": []
  }
 ],
 "metadata": {
  "kernelspec": {
   "display_name": "Python 3",
   "language": "python",
   "name": "python3"
  },
  "language_info": {
   "codemirror_mode": {
    "name": "ipython",
    "version": 3
   },
   "file_extension": ".py",
   "mimetype": "text/x-python",
   "name": "python",
   "nbconvert_exporter": "python",
   "pygments_lexer": "ipython3",
   "version": "3.8.5"
  }
 },
 "nbformat": 4,
 "nbformat_minor": 4
}
