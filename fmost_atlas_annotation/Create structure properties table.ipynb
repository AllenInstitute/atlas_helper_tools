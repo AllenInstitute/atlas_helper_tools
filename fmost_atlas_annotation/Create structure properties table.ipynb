{
 "cells": [
  {
   "cell_type": "code",
   "execution_count": 1,
   "metadata": {},
   "outputs": [],
   "source": [
    "import pandas as pd\n",
    "import numpy as np\n",
    "import os"
   ]
  },
  {
   "cell_type": "code",
   "execution_count": 2,
   "metadata": {},
   "outputs": [
    {
     "name": "stdout",
     "output_type": "stream",
     "text": [
      "structures\n",
      "structure_graphs\n",
      "structure_edges\n"
     ]
    }
   ],
   "source": [
    "#\n",
    "# -- import structure graph information\n",
    "#\n",
    "\n",
    "input_directory = \"../cell_locator_atlas_packages/csv\"\n",
    "\n",
    "tables = [\"structures\",\"structure_graphs\",\"structure_edges\"]\n",
    "df = {}\n",
    "\n",
    "for t in tables :\n",
    "    \n",
    "    print(t)\n",
    "    input_file = os.path.join( input_directory, \"aibs_lims_%s.csv\" % t)\n",
    "    df[t] = pd.read_csv( input_file )\n"
   ]
  },
  {
   "cell_type": "code",
   "execution_count": 3,
   "metadata": {},
   "outputs": [],
   "source": [
    "#\n",
    "# -- CCF uses structure graph id = 1\n",
    "#\n",
    "\n",
    "#\n",
    "# --- initialize substructure and superstructure columns\n",
    "#\n",
    "df[\"structures\"]['substructures'] = None\n",
    "df[\"structures\"]['superstructures'] = None\n",
    "\n",
    "# -- find the root node\n",
    "idx = ( df['structure_graphs']['id'] == 1 )\n",
    "filtered_graphs = df['structure_graphs'][idx]\n",
    "root_node_id = list(filtered_graphs['root_struct_id'].values)[0]\n",
    "\n",
    "# -- find all child node in graph\n",
    "idx = ( df['structure_edges']['structure_graph_id'] == 1 )\n",
    "filtered_edges = df['structure_edges'][idx]\n",
    "nodes = list(filtered_edges['child_id'].values)\n",
    "\n",
    "# -- all nodes = {root node} union {all child nodes}\n",
    "nodes.append( root_node_id )\n",
    "\n",
    "# -- filter structures table to just nodes in graph\n",
    "idx = np.isin( df['structures']['id'], nodes)\n",
    "filtered_structures = df['structures'][idx]\n",
    "\n",
    "# -- join structures with edges\n",
    "joined = pd.merge( filtered_structures, filtered_edges, left_on=\"id\", right_on=\"child_id\", how=\"left\" )\n",
    "joined.set_index('id_x', inplace=True)"
   ]
  },
  {
   "cell_type": "code",
   "execution_count": 4,
   "metadata": {},
   "outputs": [],
   "source": [
    "#\n",
    "# -- Populate the substructure and superstructure arrays\n",
    "#\n",
    "\n",
    "#\n",
    "# for each structure S, \n",
    "# -- add S to S's list of substructures\n",
    "# -- for each superstructure SuperS of S, \n",
    "# -- -- add S to SuperS's list of substructures\n",
    "# -- -- add SuperS to S's list of superstructures\n",
    "\n",
    "for index, row in joined.iterrows() :\n",
    "    \n",
    "    #print(\"structure: \" + str(row['acronym']) + \" (%d)\" % index )\n",
    "    \n",
    "    if joined.at[index,'substructures'] is not None :\n",
    "        joined.at[index,'substructures'].append(index)\n",
    "    else :\n",
    "        joined.at[index,'substructures'] = [index]\n",
    "\n",
    "    \n",
    "    \n",
    "    has_parent = row['parent_id']\n",
    "    \n",
    "    while has_parent and not pd.isna(has_parent) :\n",
    "        \n",
    "        has_parent = int(has_parent)\n",
    "        \n",
    "        #print(\" --: \" + str(joined.loc[has_parent]['acronym']) )\n",
    "        \n",
    "        if joined.at[has_parent,'substructures'] is not None :\n",
    "            joined.at[has_parent,'substructures'].append(index)\n",
    "        else :\n",
    "            joined.at[has_parent,'substructures'] = [index]\n",
    "\n",
    "        \n",
    "        if joined.at[index,'superstructures'] is not None :\n",
    "            joined.at[index,'superstructures'].append(has_parent)\n",
    "        else :\n",
    "            joined.at[index,'superstructures'] = [has_parent]\n",
    "            \n",
    "         \n",
    "        has_parent = joined.loc[has_parent,'parent_id']\n",
    "        \n",
    "        "
   ]
  },
  {
   "cell_type": "code",
   "execution_count": 5,
   "metadata": {},
   "outputs": [],
   "source": [
    "def arr_to_string ( input ) :\n",
    "    \n",
    "    if input is None :\n",
    "        return None\n",
    "    \n",
    "    output = [str(x) for x in input]\n",
    "    output = '/'.join(output)\n",
    "    return output"
   ]
  },
  {
   "cell_type": "code",
   "execution_count": 6,
   "metadata": {},
   "outputs": [],
   "source": [
    "cc = joined['substructures'].values\n",
    "joined['substructures'] = [arr_to_string(x) for x in cc ]\n",
    "\n",
    "cc = joined['superstructures'].values\n",
    "joined['superstructures'] = [arr_to_string(x) for x in cc ]"
   ]
  },
  {
   "cell_type": "code",
   "execution_count": 7,
   "metadata": {},
   "outputs": [],
   "source": [
    "joined.reset_index(inplace=True)\n",
    "joined.rename(columns={'id_x': 'id'}, inplace=True)"
   ]
  },
  {
   "cell_type": "code",
   "execution_count": 8,
   "metadata": {},
   "outputs": [],
   "source": [
    "keep_columns = ['id','name', 'acronym', 'red', 'green', 'blue','substructures','superstructures']\n",
    "dropped_columns = list(set(joined.columns)- set(keep_columns))\n",
    "joined.drop(columns=dropped_columns,inplace=True)"
   ]
  },
  {
   "cell_type": "code",
   "execution_count": 9,
   "metadata": {},
   "outputs": [
    {
     "data": {
      "text/html": [
       "<div>\n",
       "<style scoped>\n",
       "    .dataframe tbody tr th:only-of-type {\n",
       "        vertical-align: middle;\n",
       "    }\n",
       "\n",
       "    .dataframe tbody tr th {\n",
       "        vertical-align: top;\n",
       "    }\n",
       "\n",
       "    .dataframe thead th {\n",
       "        text-align: right;\n",
       "    }\n",
       "</style>\n",
       "<table border=\"1\" class=\"dataframe\">\n",
       "  <thead>\n",
       "    <tr style=\"text-align: right;\">\n",
       "      <th></th>\n",
       "      <th>id</th>\n",
       "      <th>name</th>\n",
       "      <th>acronym</th>\n",
       "      <th>red</th>\n",
       "      <th>green</th>\n",
       "      <th>blue</th>\n",
       "      <th>substructures</th>\n",
       "      <th>superstructures</th>\n",
       "    </tr>\n",
       "  </thead>\n",
       "  <tbody>\n",
       "    <tr>\n",
       "      <th>0</th>\n",
       "      <td>1</td>\n",
       "      <td>Tuberomammillary nucleus, ventral part</td>\n",
       "      <td>TMv</td>\n",
       "      <td>255</td>\n",
       "      <td>76</td>\n",
       "      <td>62</td>\n",
       "      <td>1</td>\n",
       "      <td>557/331/467/1097/1129/343/8/997</td>\n",
       "    </tr>\n",
       "    <tr>\n",
       "      <th>1</th>\n",
       "      <td>2</td>\n",
       "      <td>Primary somatosensory area, mouth, layer 6b</td>\n",
       "      <td>SSp-m6b</td>\n",
       "      <td>24</td>\n",
       "      <td>128</td>\n",
       "      <td>100</td>\n",
       "      <td>2</td>\n",
       "      <td>345/322/453/315/695/688/567/8/997</td>\n",
       "    </tr>\n",
       "    <tr>\n",
       "      <th>2</th>\n",
       "      <td>3</td>\n",
       "      <td>secondary fissure</td>\n",
       "      <td>sec</td>\n",
       "      <td>170</td>\n",
       "      <td>170</td>\n",
       "      <td>170</td>\n",
       "      <td>3</td>\n",
       "      <td>1040/1024/997</td>\n",
       "    </tr>\n",
       "    <tr>\n",
       "      <th>3</th>\n",
       "      <td>4</td>\n",
       "      <td>Inferior colliculus</td>\n",
       "      <td>IC</td>\n",
       "      <td>255</td>\n",
       "      <td>122</td>\n",
       "      <td>255</td>\n",
       "      <td>4/811/820/828</td>\n",
       "      <td>339/313/343/8/997</td>\n",
       "    </tr>\n",
       "    <tr>\n",
       "      <th>4</th>\n",
       "      <td>6</td>\n",
       "      <td>internal capsule</td>\n",
       "      <td>int</td>\n",
       "      <td>204</td>\n",
       "      <td>204</td>\n",
       "      <td>204</td>\n",
       "      <td>6</td>\n",
       "      <td>784/983/1009/997</td>\n",
       "    </tr>\n",
       "  </tbody>\n",
       "</table>\n",
       "</div>"
      ],
      "text/plain": [
       "   id                                         name  acronym  red  green  blue  \\\n",
       "0   1       Tuberomammillary nucleus, ventral part      TMv  255     76    62   \n",
       "1   2  Primary somatosensory area, mouth, layer 6b  SSp-m6b   24    128   100   \n",
       "2   3                            secondary fissure      sec  170    170   170   \n",
       "3   4                          Inferior colliculus       IC  255    122   255   \n",
       "4   6                             internal capsule      int  204    204   204   \n",
       "\n",
       "   substructures                    superstructures  \n",
       "0              1    557/331/467/1097/1129/343/8/997  \n",
       "1              2  345/322/453/315/695/688/567/8/997  \n",
       "2              3                      1040/1024/997  \n",
       "3  4/811/820/828                  339/313/343/8/997  \n",
       "4              6                   784/983/1009/997  "
      ]
     },
     "execution_count": 9,
     "metadata": {},
     "output_type": "execute_result"
    }
   ],
   "source": [
    "joined.head()"
   ]
  },
  {
   "cell_type": "code",
   "execution_count": 10,
   "metadata": {},
   "outputs": [],
   "source": [
    "joined.to_csv('structure_properties.csv',index=False)"
   ]
  },
  {
   "cell_type": "code",
   "execution_count": null,
   "metadata": {},
   "outputs": [],
   "source": []
  }
 ],
 "metadata": {
  "kernelspec": {
   "display_name": "Python 3",
   "language": "python",
   "name": "python3"
  },
  "language_info": {
   "codemirror_mode": {
    "name": "ipython",
    "version": 3
   },
   "file_extension": ".py",
   "mimetype": "text/x-python",
   "name": "python",
   "nbconvert_exporter": "python",
   "pygments_lexer": "ipython3",
   "version": "3.8.5"
  }
 },
 "nbformat": 4,
 "nbformat_minor": 4
}
