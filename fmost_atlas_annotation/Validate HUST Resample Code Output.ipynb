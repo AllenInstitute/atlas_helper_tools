{
 "cells": [
  {
   "cell_type": "code",
   "execution_count": 2,
   "metadata": {},
   "outputs": [],
   "source": [
    "import pandas as pd\n",
    "import os\n",
    "import glob\n",
    "import matplotlib.pyplot as plt\n",
    "import SimpleITK as sitk\n",
    "import numpy as np\n",
    "import difflib\n",
    "%matplotlib inline"
   ]
  },
  {
   "cell_type": "code",
   "execution_count": 3,
   "metadata": {},
   "outputs": [],
   "source": [
    "def swc_to_dataframe( file_name ) :\n",
    "    col_names = ['id', 'type', 'x', 'y', 'z', 'radius', 'parent', 'seg_id', 'level', 'mode', 'timestamp', 'TFresindex']\n",
    "    df = pd.read_csv( file_name, sep=r\"\\s+\", comment = \"#\", names = col_names, index_col = 'id')\n",
    "    return df"
   ]
  },
  {
   "cell_type": "code",
   "execution_count": 4,
   "metadata": {},
   "outputs": [],
   "source": [
    "def filter_swc( df, type ) :\n",
    "    dd = df[df['type']==type]\n",
    "    return dd"
   ]
  },
  {
   "cell_type": "code",
   "execution_count": 5,
   "metadata": {},
   "outputs": [],
   "source": [
    "def file_diff( file1, file2 ) :\n",
    "    \n",
    "    with open(file1) as f1:\n",
    "        f1_text = f1.read()\n",
    "    with open(file2) as f2:\n",
    "        f2_text = f2.read()\n",
    "        \n",
    "    # Find and print the diff:\n",
    "    count = 0;\n",
    "    for line in difflib.unified_diff(f1_text, f2_text, fromfile=file1, tofile=file2, lineterm=''):\n",
    "        \n",
    "        print(line)\n",
    "        count += 1\n",
    "        \n",
    "        if count > 15 :\n",
    "            break\n",
    "    "
   ]
  },
  {
   "cell_type": "code",
   "execution_count": 6,
   "metadata": {},
   "outputs": [],
   "source": [
    "def estimate_coef(x, y):\n",
    "    # number of observations/points\n",
    "    n = np.size(x)\n",
    " \n",
    "    # mean of x and y vector\n",
    "    m_x = np.mean(x)\n",
    "    m_y = np.mean(y)\n",
    " \n",
    "    # calculating cross-deviation and deviation about x\n",
    "    SS_xy = np.sum(y*x) - n*m_y*m_x\n",
    "    SS_xx = np.sum(x*x) - n*m_x*m_x\n",
    " \n",
    "    # calculating regression coefficients\n",
    "    b_1 = SS_xy / SS_xx\n",
    "    b_0 = m_y - b_1*m_x\n",
    " \n",
    "    return (b_0, b_1)"
   ]
  },
  {
   "cell_type": "code",
   "execution_count": 9,
   "metadata": {},
   "outputs": [],
   "source": [
    "#model_directory = \"/allen/programs/celltypes/workgroups/mousecelltypes/_UPENN_fMOST\"\n",
    "model_directory = \"C:/Users/lydia/OneDrive/Work/DigitalAssets/_UPENN_fMOST\"\n",
    "\n",
    "# Registered SWC files directly from HUST vs from the code\n",
    "reference_directory = os.path.join( model_directory,\"HUSTReproduction_9_7_2021\",\"TransformedByHUST\",\"182709_RegisteredByHUST\",\"182709_RegisteredByHUST\")\n",
    "input_directory = os.path.join( model_directory,\"HUSTReproduction_9_7_2021\",\"Sandbox\",\"182709_ByHUST_original_sent_in_micron_registered\")\n",
    "\n",
    "# SWC files directly sent to HUST\n",
    "#reference_directory = os.path.join( model_directory,\"HUSTReproduction_9_7_2021\",\"Original\",\"182709_ByHUST_original_sent\")\n",
    "#input_directory = os.path.join( model_directory,\"HUSTReproduction_9_7_2021\",\"Original\",\"182709_newCells\")\n"
   ]
  },
  {
   "cell_type": "code",
   "execution_count": 10,
   "metadata": {},
   "outputs": [
    {
     "name": "stdout",
     "output_type": "stream",
     "text": [
      "C:/Users/lydia/OneDrive/Work/DigitalAssets/_UPENN_fMOST\\HUSTReproduction_9_7_2021\\TransformedByHUST\\182709_RegisteredByHUST\\182709_RegisteredByHUST\\182709_1392-X9267-Y12144_reg.swc\n",
      "C:/Users/lydia/OneDrive/Work/DigitalAssets/_UPENN_fMOST\\HUSTReproduction_9_7_2021\\TransformedByHUST\\182709_RegisteredByHUST\\182709_RegisteredByHUST\\182709_1565-X10730-Y13868_reg.swc\n",
      "C:/Users/lydia/OneDrive/Work/DigitalAssets/_UPENN_fMOST\\HUSTReproduction_9_7_2021\\TransformedByHUST\\182709_RegisteredByHUST\\182709_RegisteredByHUST\\182709_1907-X12545-Y15265_reg.swc\n",
      "C:/Users/lydia/OneDrive/Work/DigitalAssets/_UPENN_fMOST\\HUSTReproduction_9_7_2021\\TransformedByHUST\\182709_RegisteredByHUST\\182709_RegisteredByHUST\\182709_2078-X10276-Y14982_reg.swc\n",
      "C:/Users/lydia/OneDrive/Work/DigitalAssets/_UPENN_fMOST\\HUSTReproduction_9_7_2021\\TransformedByHUST\\182709_RegisteredByHUST\\182709_RegisteredByHUST\\182709_405-X9581-Y19368_reg.swc\n",
      "C:/Users/lydia/OneDrive/Work/DigitalAssets/_UPENN_fMOST\\HUSTReproduction_9_7_2021\\TransformedByHUST\\182709_RegisteredByHUST\\182709_RegisteredByHUST\\182709_795-X9596-Y19078_reg.swc\n",
      "C:/Users/lydia/OneDrive/Work/DigitalAssets/_UPENN_fMOST\\HUSTReproduction_9_7_2021\\TransformedByHUST\\182709_RegisteredByHUST\\182709_RegisteredByHUST\\182709_8205-X11007-Y9343_reg.swc\n",
      "C:/Users/lydia/OneDrive/Work/DigitalAssets/_UPENN_fMOST\\HUSTReproduction_9_7_2021\\TransformedByHUST\\182709_RegisteredByHUST\\182709_RegisteredByHUST\\182709_somaMarkers.ano_reg.swc\n"
     ]
    }
   ],
   "source": [
    "allr = pd.DataFrame()\n",
    "alli = pd.DataFrame()\n",
    "\n",
    "for rfile in glob.glob(os.path.join(reference_directory, \"*.swc\")):\n",
    "#for rfile in [os.path.join(reference_directory,'182709_1392-X9267-Y12144_reg.swc')] :\n",
    "#for rfile in [os.path.join(reference_directory,'182709_1565-X10730-Y13868_reg.swc')] :\n",
    "#for rfile in [os.path.join(reference_directory,'182709_2078-X10276-Y14982_reg.swc')] :    \n",
    "#for rfile in [os.path.join(reference_directory,'182709_8205-X11007-Y9343_reg.swc')] :\n",
    "    \n",
    "    print(rfile)\n",
    "    \n",
    "    bb = os.path.basename( rfile )\n",
    "    ifile = os.path.join(input_directory, bb)\n",
    "    \n",
    "    rdf = swc_to_dataframe( rfile )\n",
    "    idf = swc_to_dataframe( ifile )\n",
    "    \n",
    "    allr = pd.concat([allr,rdf], ignore_index=True)\n",
    "    alli = pd.concat([alli,idf], ignore_index=True)\n",
    "    "
   ]
  },
  {
   "cell_type": "code",
   "execution_count": 11,
   "metadata": {
    "scrolled": true
   },
   "outputs": [
    {
     "data": {
      "text/html": [
       "<div>\n",
       "<style scoped>\n",
       "    .dataframe tbody tr th:only-of-type {\n",
       "        vertical-align: middle;\n",
       "    }\n",
       "\n",
       "    .dataframe tbody tr th {\n",
       "        vertical-align: top;\n",
       "    }\n",
       "\n",
       "    .dataframe thead th {\n",
       "        text-align: right;\n",
       "    }\n",
       "</style>\n",
       "<table border=\"1\" class=\"dataframe\">\n",
       "  <thead>\n",
       "    <tr style=\"text-align: right;\">\n",
       "      <th></th>\n",
       "      <th>type</th>\n",
       "      <th>x</th>\n",
       "      <th>y</th>\n",
       "      <th>z</th>\n",
       "      <th>radius</th>\n",
       "      <th>parent</th>\n",
       "      <th>seg_id</th>\n",
       "      <th>level</th>\n",
       "      <th>mode</th>\n",
       "      <th>timestamp</th>\n",
       "      <th>TFresindex</th>\n",
       "    </tr>\n",
       "  </thead>\n",
       "  <tbody>\n",
       "    <tr>\n",
       "      <th>0</th>\n",
       "      <td>1.0</td>\n",
       "      <td>4488.849424</td>\n",
       "      <td>3901.403945</td>\n",
       "      <td>1699.819748</td>\n",
       "      <td>0.000</td>\n",
       "      <td>-1.0</td>\n",
       "      <td>NaN</td>\n",
       "      <td>NaN</td>\n",
       "      <td>NaN</td>\n",
       "      <td>NaN</td>\n",
       "      <td>NaN</td>\n",
       "    </tr>\n",
       "    <tr>\n",
       "      <th>1</th>\n",
       "      <td>1.0</td>\n",
       "      <td>4481.876972</td>\n",
       "      <td>3896.083606</td>\n",
       "      <td>1699.305296</td>\n",
       "      <td>0.618</td>\n",
       "      <td>594109.0</td>\n",
       "      <td>NaN</td>\n",
       "      <td>NaN</td>\n",
       "      <td>NaN</td>\n",
       "      <td>NaN</td>\n",
       "      <td>NaN</td>\n",
       "    </tr>\n",
       "    <tr>\n",
       "      <th>2</th>\n",
       "      <td>3.0</td>\n",
       "      <td>4481.226375</td>\n",
       "      <td>3896.219144</td>\n",
       "      <td>1703.371289</td>\n",
       "      <td>0.618</td>\n",
       "      <td>622975.0</td>\n",
       "      <td>NaN</td>\n",
       "      <td>NaN</td>\n",
       "      <td>NaN</td>\n",
       "      <td>NaN</td>\n",
       "      <td>NaN</td>\n",
       "    </tr>\n",
       "    <tr>\n",
       "      <th>3</th>\n",
       "      <td>3.0</td>\n",
       "      <td>4480.685492</td>\n",
       "      <td>3895.578259</td>\n",
       "      <td>1702.334413</td>\n",
       "      <td>0.618</td>\n",
       "      <td>622976.0</td>\n",
       "      <td>NaN</td>\n",
       "      <td>NaN</td>\n",
       "      <td>NaN</td>\n",
       "      <td>NaN</td>\n",
       "      <td>NaN</td>\n",
       "    </tr>\n",
       "    <tr>\n",
       "      <th>4</th>\n",
       "      <td>3.0</td>\n",
       "      <td>4479.569462</td>\n",
       "      <td>3894.832121</td>\n",
       "      <td>1704.266638</td>\n",
       "      <td>0.618</td>\n",
       "      <td>622977.0</td>\n",
       "      <td>NaN</td>\n",
       "      <td>NaN</td>\n",
       "      <td>NaN</td>\n",
       "      <td>NaN</td>\n",
       "      <td>NaN</td>\n",
       "    </tr>\n",
       "    <tr>\n",
       "      <th>...</th>\n",
       "      <td>...</td>\n",
       "      <td>...</td>\n",
       "      <td>...</td>\n",
       "      <td>...</td>\n",
       "      <td>...</td>\n",
       "      <td>...</td>\n",
       "      <td>...</td>\n",
       "      <td>...</td>\n",
       "      <td>...</td>\n",
       "      <td>...</td>\n",
       "      <td>...</td>\n",
       "    </tr>\n",
       "    <tr>\n",
       "      <th>17667</th>\n",
       "      <td>0.0</td>\n",
       "      <td>4967.433224</td>\n",
       "      <td>9096.891098</td>\n",
       "      <td>8970.668919</td>\n",
       "      <td>10.000</td>\n",
       "      <td>-1.0</td>\n",
       "      <td>NaN</td>\n",
       "      <td>NaN</td>\n",
       "      <td>NaN</td>\n",
       "      <td>NaN</td>\n",
       "      <td>NaN</td>\n",
       "    </tr>\n",
       "    <tr>\n",
       "      <th>17668</th>\n",
       "      <td>0.0</td>\n",
       "      <td>5789.480078</td>\n",
       "      <td>9031.581527</td>\n",
       "      <td>9366.912903</td>\n",
       "      <td>10.000</td>\n",
       "      <td>-1.0</td>\n",
       "      <td>NaN</td>\n",
       "      <td>NaN</td>\n",
       "      <td>NaN</td>\n",
       "      <td>NaN</td>\n",
       "      <td>NaN</td>\n",
       "    </tr>\n",
       "    <tr>\n",
       "      <th>17669</th>\n",
       "      <td>0.0</td>\n",
       "      <td>5456.886053</td>\n",
       "      <td>8786.205089</td>\n",
       "      <td>6760.866143</td>\n",
       "      <td>10.000</td>\n",
       "      <td>-1.0</td>\n",
       "      <td>NaN</td>\n",
       "      <td>NaN</td>\n",
       "      <td>NaN</td>\n",
       "      <td>NaN</td>\n",
       "      <td>NaN</td>\n",
       "    </tr>\n",
       "    <tr>\n",
       "      <th>17670</th>\n",
       "      <td>0.0</td>\n",
       "      <td>7242.386194</td>\n",
       "      <td>9632.040707</td>\n",
       "      <td>7609.649849</td>\n",
       "      <td>10.000</td>\n",
       "      <td>-1.0</td>\n",
       "      <td>NaN</td>\n",
       "      <td>NaN</td>\n",
       "      <td>NaN</td>\n",
       "      <td>NaN</td>\n",
       "      <td>NaN</td>\n",
       "    </tr>\n",
       "    <tr>\n",
       "      <th>17671</th>\n",
       "      <td>0.0</td>\n",
       "      <td>7509.371926</td>\n",
       "      <td>9154.010457</td>\n",
       "      <td>7198.494637</td>\n",
       "      <td>10.000</td>\n",
       "      <td>-1.0</td>\n",
       "      <td>NaN</td>\n",
       "      <td>NaN</td>\n",
       "      <td>NaN</td>\n",
       "      <td>NaN</td>\n",
       "      <td>NaN</td>\n",
       "    </tr>\n",
       "  </tbody>\n",
       "</table>\n",
       "<p>17672 rows × 11 columns</p>\n",
       "</div>"
      ],
      "text/plain": [
       "       type            x            y            z  radius    parent  seg_id  \\\n",
       "0       1.0  4488.849424  3901.403945  1699.819748   0.000      -1.0     NaN   \n",
       "1       1.0  4481.876972  3896.083606  1699.305296   0.618  594109.0     NaN   \n",
       "2       3.0  4481.226375  3896.219144  1703.371289   0.618  622975.0     NaN   \n",
       "3       3.0  4480.685492  3895.578259  1702.334413   0.618  622976.0     NaN   \n",
       "4       3.0  4479.569462  3894.832121  1704.266638   0.618  622977.0     NaN   \n",
       "...     ...          ...          ...          ...     ...       ...     ...   \n",
       "17667   0.0  4967.433224  9096.891098  8970.668919  10.000      -1.0     NaN   \n",
       "17668   0.0  5789.480078  9031.581527  9366.912903  10.000      -1.0     NaN   \n",
       "17669   0.0  5456.886053  8786.205089  6760.866143  10.000      -1.0     NaN   \n",
       "17670   0.0  7242.386194  9632.040707  7609.649849  10.000      -1.0     NaN   \n",
       "17671   0.0  7509.371926  9154.010457  7198.494637  10.000      -1.0     NaN   \n",
       "\n",
       "       level  mode  timestamp  TFresindex  \n",
       "0        NaN   NaN        NaN         NaN  \n",
       "1        NaN   NaN        NaN         NaN  \n",
       "2        NaN   NaN        NaN         NaN  \n",
       "3        NaN   NaN        NaN         NaN  \n",
       "4        NaN   NaN        NaN         NaN  \n",
       "...      ...   ...        ...         ...  \n",
       "17667    NaN   NaN        NaN         NaN  \n",
       "17668    NaN   NaN        NaN         NaN  \n",
       "17669    NaN   NaN        NaN         NaN  \n",
       "17670    NaN   NaN        NaN         NaN  \n",
       "17671    NaN   NaN        NaN         NaN  \n",
       "\n",
       "[17672 rows x 11 columns]"
      ]
     },
     "execution_count": 11,
     "metadata": {},
     "output_type": "execute_result"
    }
   ],
   "source": [
    "allr"
   ]
  },
  {
   "cell_type": "code",
   "execution_count": 12,
   "metadata": {},
   "outputs": [
    {
     "data": {
      "text/html": [
       "<div>\n",
       "<style scoped>\n",
       "    .dataframe tbody tr th:only-of-type {\n",
       "        vertical-align: middle;\n",
       "    }\n",
       "\n",
       "    .dataframe tbody tr th {\n",
       "        vertical-align: top;\n",
       "    }\n",
       "\n",
       "    .dataframe thead th {\n",
       "        text-align: right;\n",
       "    }\n",
       "</style>\n",
       "<table border=\"1\" class=\"dataframe\">\n",
       "  <thead>\n",
       "    <tr style=\"text-align: right;\">\n",
       "      <th></th>\n",
       "      <th>type</th>\n",
       "      <th>x</th>\n",
       "      <th>y</th>\n",
       "      <th>z</th>\n",
       "      <th>radius</th>\n",
       "      <th>parent</th>\n",
       "      <th>seg_id</th>\n",
       "      <th>level</th>\n",
       "      <th>mode</th>\n",
       "      <th>timestamp</th>\n",
       "      <th>TFresindex</th>\n",
       "    </tr>\n",
       "  </thead>\n",
       "  <tbody>\n",
       "    <tr>\n",
       "      <th>0</th>\n",
       "      <td>1.0</td>\n",
       "      <td>4476.847087</td>\n",
       "      <td>3907.031186</td>\n",
       "      <td>1694.888903</td>\n",
       "      <td>0.000</td>\n",
       "      <td>-1.0</td>\n",
       "      <td>NaN</td>\n",
       "      <td>NaN</td>\n",
       "      <td>NaN</td>\n",
       "      <td>NaN</td>\n",
       "      <td>NaN</td>\n",
       "    </tr>\n",
       "    <tr>\n",
       "      <th>1</th>\n",
       "      <td>1.0</td>\n",
       "      <td>4469.767636</td>\n",
       "      <td>3902.021279</td>\n",
       "      <td>1694.579591</td>\n",
       "      <td>0.618</td>\n",
       "      <td>594109.0</td>\n",
       "      <td>NaN</td>\n",
       "      <td>NaN</td>\n",
       "      <td>NaN</td>\n",
       "      <td>NaN</td>\n",
       "      <td>NaN</td>\n",
       "    </tr>\n",
       "    <tr>\n",
       "      <th>2</th>\n",
       "      <td>3.0</td>\n",
       "      <td>4469.157281</td>\n",
       "      <td>3902.334765</td>\n",
       "      <td>1698.954142</td>\n",
       "      <td>0.618</td>\n",
       "      <td>622975.0</td>\n",
       "      <td>NaN</td>\n",
       "      <td>NaN</td>\n",
       "      <td>NaN</td>\n",
       "      <td>NaN</td>\n",
       "      <td>NaN</td>\n",
       "    </tr>\n",
       "    <tr>\n",
       "      <th>3</th>\n",
       "      <td>3.0</td>\n",
       "      <td>4468.593192</td>\n",
       "      <td>3901.679525</td>\n",
       "      <td>1697.865064</td>\n",
       "      <td>0.618</td>\n",
       "      <td>622976.0</td>\n",
       "      <td>NaN</td>\n",
       "      <td>NaN</td>\n",
       "      <td>NaN</td>\n",
       "      <td>NaN</td>\n",
       "      <td>NaN</td>\n",
       "    </tr>\n",
       "    <tr>\n",
       "      <th>4</th>\n",
       "      <td>3.0</td>\n",
       "      <td>4467.477439</td>\n",
       "      <td>3901.051077</td>\n",
       "      <td>1699.977250</td>\n",
       "      <td>0.618</td>\n",
       "      <td>622977.0</td>\n",
       "      <td>NaN</td>\n",
       "      <td>NaN</td>\n",
       "      <td>NaN</td>\n",
       "      <td>NaN</td>\n",
       "      <td>NaN</td>\n",
       "    </tr>\n",
       "    <tr>\n",
       "      <th>...</th>\n",
       "      <td>...</td>\n",
       "      <td>...</td>\n",
       "      <td>...</td>\n",
       "      <td>...</td>\n",
       "      <td>...</td>\n",
       "      <td>...</td>\n",
       "      <td>...</td>\n",
       "      <td>...</td>\n",
       "      <td>...</td>\n",
       "      <td>...</td>\n",
       "      <td>...</td>\n",
       "    </tr>\n",
       "    <tr>\n",
       "      <th>17667</th>\n",
       "      <td>0.0</td>\n",
       "      <td>4888.607071</td>\n",
       "      <td>9117.293535</td>\n",
       "      <td>8956.851140</td>\n",
       "      <td>10.000</td>\n",
       "      <td>-1.0</td>\n",
       "      <td>NaN</td>\n",
       "      <td>NaN</td>\n",
       "      <td>NaN</td>\n",
       "      <td>NaN</td>\n",
       "      <td>NaN</td>\n",
       "    </tr>\n",
       "    <tr>\n",
       "      <th>17668</th>\n",
       "      <td>0.0</td>\n",
       "      <td>5708.011421</td>\n",
       "      <td>9072.922666</td>\n",
       "      <td>9376.353140</td>\n",
       "      <td>10.000</td>\n",
       "      <td>-1.0</td>\n",
       "      <td>NaN</td>\n",
       "      <td>NaN</td>\n",
       "      <td>NaN</td>\n",
       "      <td>NaN</td>\n",
       "      <td>NaN</td>\n",
       "    </tr>\n",
       "    <tr>\n",
       "      <th>17669</th>\n",
       "      <td>0.0</td>\n",
       "      <td>5489.039762</td>\n",
       "      <td>8868.749463</td>\n",
       "      <td>6695.508005</td>\n",
       "      <td>10.000</td>\n",
       "      <td>-1.0</td>\n",
       "      <td>NaN</td>\n",
       "      <td>NaN</td>\n",
       "      <td>NaN</td>\n",
       "      <td>NaN</td>\n",
       "      <td>NaN</td>\n",
       "    </tr>\n",
       "    <tr>\n",
       "      <th>17670</th>\n",
       "      <td>0.0</td>\n",
       "      <td>7234.678408</td>\n",
       "      <td>9665.365311</td>\n",
       "      <td>7651.289912</td>\n",
       "      <td>10.000</td>\n",
       "      <td>-1.0</td>\n",
       "      <td>NaN</td>\n",
       "      <td>NaN</td>\n",
       "      <td>NaN</td>\n",
       "      <td>NaN</td>\n",
       "      <td>NaN</td>\n",
       "    </tr>\n",
       "    <tr>\n",
       "      <th>17671</th>\n",
       "      <td>0.0</td>\n",
       "      <td>7512.100574</td>\n",
       "      <td>9190.159188</td>\n",
       "      <td>7226.742860</td>\n",
       "      <td>10.000</td>\n",
       "      <td>-1.0</td>\n",
       "      <td>NaN</td>\n",
       "      <td>NaN</td>\n",
       "      <td>NaN</td>\n",
       "      <td>NaN</td>\n",
       "      <td>NaN</td>\n",
       "    </tr>\n",
       "  </tbody>\n",
       "</table>\n",
       "<p>17672 rows × 11 columns</p>\n",
       "</div>"
      ],
      "text/plain": [
       "       type            x            y            z  radius    parent  seg_id  \\\n",
       "0       1.0  4476.847087  3907.031186  1694.888903   0.000      -1.0     NaN   \n",
       "1       1.0  4469.767636  3902.021279  1694.579591   0.618  594109.0     NaN   \n",
       "2       3.0  4469.157281  3902.334765  1698.954142   0.618  622975.0     NaN   \n",
       "3       3.0  4468.593192  3901.679525  1697.865064   0.618  622976.0     NaN   \n",
       "4       3.0  4467.477439  3901.051077  1699.977250   0.618  622977.0     NaN   \n",
       "...     ...          ...          ...          ...     ...       ...     ...   \n",
       "17667   0.0  4888.607071  9117.293535  8956.851140  10.000      -1.0     NaN   \n",
       "17668   0.0  5708.011421  9072.922666  9376.353140  10.000      -1.0     NaN   \n",
       "17669   0.0  5489.039762  8868.749463  6695.508005  10.000      -1.0     NaN   \n",
       "17670   0.0  7234.678408  9665.365311  7651.289912  10.000      -1.0     NaN   \n",
       "17671   0.0  7512.100574  9190.159188  7226.742860  10.000      -1.0     NaN   \n",
       "\n",
       "       level  mode  timestamp  TFresindex  \n",
       "0        NaN   NaN        NaN         NaN  \n",
       "1        NaN   NaN        NaN         NaN  \n",
       "2        NaN   NaN        NaN         NaN  \n",
       "3        NaN   NaN        NaN         NaN  \n",
       "4        NaN   NaN        NaN         NaN  \n",
       "...      ...   ...        ...         ...  \n",
       "17667    NaN   NaN        NaN         NaN  \n",
       "17668    NaN   NaN        NaN         NaN  \n",
       "17669    NaN   NaN        NaN         NaN  \n",
       "17670    NaN   NaN        NaN         NaN  \n",
       "17671    NaN   NaN        NaN         NaN  \n",
       "\n",
       "[17672 rows x 11 columns]"
      ]
     },
     "execution_count": 12,
     "metadata": {},
     "output_type": "execute_result"
    }
   ],
   "source": [
    "alli"
   ]
  },
  {
   "cell_type": "code",
   "execution_count": 13,
   "metadata": {
    "scrolled": true
   },
   "outputs": [
    {
     "data": {
      "text/plain": [
       "(16.537535661875154, 0.9997183346829728)"
      ]
     },
     "execution_count": 13,
     "metadata": {},
     "output_type": "execute_result"
    },
    {
     "data": {
      "image/png": "[encoded data removed]",
      "text/plain": [
       "<Figure size 432x288 with 1 Axes>"
      ]
     },
     "metadata": {
      "needs_background": "light"
     },
     "output_type": "display_data"
    }
   ],
   "source": [
    "plt.plot(allr['x'],alli['x'],'o')\n",
    "estimate_coef(allr['x'],alli['x'])"
   ]
  },
  {
   "cell_type": "code",
   "execution_count": 14,
   "metadata": {},
   "outputs": [
    {
     "data": {
      "text/plain": [
       "(-51.048507424119634, 1.0073619964199982)"
      ]
     },
     "execution_count": 14,
     "metadata": {},
     "output_type": "execute_result"
    },
    {
     "data": {
      "image/png": "[encoded data removed]",
      "text/plain": [
       "<Figure size 432x288 with 1 Axes>"
      ]
     },
     "metadata": {
      "needs_background": "light"
     },
     "output_type": "display_data"
    }
   ],
   "source": [
    "plt.plot(allr['y'],alli['y'],'o')\n",
    "estimate_coef(allr['y'],alli['y'])"
   ]
  },
  {
   "cell_type": "code",
   "execution_count": 15,
   "metadata": {},
   "outputs": [
    {
     "data": {
      "text/plain": [
       "(-4.716481321881474, 0.9984923075092897)"
      ]
     },
     "execution_count": 15,
     "metadata": {},
     "output_type": "execute_result"
    },
    {
     "data": {
      "image/png": "[encoded data removed]",
      "text/plain": [
       "<Figure size 432x288 with 1 Axes>"
      ]
     },
     "metadata": {
      "needs_background": "light"
     },
     "output_type": "display_data"
    }
   ],
   "source": [
    "plt.plot(allr['z'],alli['z'],'o')\n",
    "estimate_coef(allr['z'],alli['z'])"
   ]
  },
  {
   "cell_type": "code",
   "execution_count": 16,
   "metadata": {},
   "outputs": [
    {
     "data": {
      "text/plain": [
       "114.1707009999991"
      ]
     },
     "execution_count": 16,
     "metadata": {},
     "output_type": "execute_result"
    }
   ],
   "source": [
    "np.max(allr['x']-alli['x'])"
   ]
  },
  {
   "cell_type": "code",
   "execution_count": 17,
   "metadata": {},
   "outputs": [
    {
     "data": {
      "text/plain": [
       "90.6337169999997"
      ]
     },
     "execution_count": 17,
     "metadata": {},
     "output_type": "execute_result"
    }
   ],
   "source": [
    "np.max(allr['y']-alli['y'])"
   ]
  },
  {
   "cell_type": "code",
   "execution_count": 18,
   "metadata": {},
   "outputs": [
    {
     "data": {
      "text/plain": [
       "117.44862699999976"
      ]
     },
     "execution_count": 18,
     "metadata": {},
     "output_type": "execute_result"
    }
   ],
   "source": [
    "np.max(allr['z']-alli['z'])"
   ]
  },
  {
   "cell_type": "code",
   "execution_count": 19,
   "metadata": {},
   "outputs": [
    {
     "data": {
      "text/plain": [
       "-218.63234100000045"
      ]
     },
     "execution_count": 19,
     "metadata": {},
     "output_type": "execute_result"
    }
   ],
   "source": [
    "np.min(allr['x']-alli['x'])"
   ]
  },
  {
   "cell_type": "code",
   "execution_count": 20,
   "metadata": {},
   "outputs": [
    {
     "data": {
      "text/plain": [
       "-148.61240999999973"
      ]
     },
     "execution_count": 20,
     "metadata": {},
     "output_type": "execute_result"
    }
   ],
   "source": [
    "np.min(allr['y']-alli['y'])"
   ]
  },
  {
   "cell_type": "code",
   "execution_count": 21,
   "metadata": {},
   "outputs": [
    {
     "data": {
      "text/plain": [
       "-57.47645599999987"
      ]
     },
     "execution_count": 21,
     "metadata": {},
     "output_type": "execute_result"
    }
   ],
   "source": [
    "np.min(allr['z']-alli['z'])"
   ]
  },
  {
   "cell_type": "code",
   "execution_count": 23,
   "metadata": {},
   "outputs": [
    {
     "data": {
      "text/plain": [
       "[<matplotlib.lines.Line2D at 0x16c125816a0>]"
      ]
     },
     "execution_count": 23,
     "metadata": {},
     "output_type": "execute_result"
    },
    {
     "data": {
      "image/png": "[encoded data removed]",
      "text/plain": [
       "<Figure size 432x288 with 1 Axes>"
      ]
     },
     "metadata": {
      "needs_background": "light"
     },
     "output_type": "display_data"
    }
   ],
   "source": [
    "plt.plot(allr['x'],allr['x']-alli['x'],'o')"
   ]
  },
  {
   "cell_type": "code",
   "execution_count": 24,
   "metadata": {},
   "outputs": [
    {
     "data": {
      "text/plain": [
       "[<matplotlib.lines.Line2D at 0x16c125d9e20>]"
      ]
     },
     "execution_count": 24,
     "metadata": {},
     "output_type": "execute_result"
    },
    {
     "data": {
      "image/png": "[encoded data removed]",
      "text/plain": [
       "<Figure size 432x288 with 1 Axes>"
      ]
     },
     "metadata": {
      "needs_background": "light"
     },
     "output_type": "display_data"
    }
   ],
   "source": [
    "plt.plot(allr['y'],allr['y']-alli['y'],'o')"
   ]
  },
  {
   "cell_type": "code",
   "execution_count": 25,
   "metadata": {},
   "outputs": [
    {
     "data": {
      "text/plain": [
       "[<matplotlib.lines.Line2D at 0x16c126390a0>]"
      ]
     },
     "execution_count": 25,
     "metadata": {},
     "output_type": "execute_result"
    },
    {
     "data": {
      "image/png": "[encoded data removed]",
      "text/plain": [
       "<Figure size 432x288 with 1 Axes>"
      ]
     },
     "metadata": {
      "needs_background": "light"
     },
     "output_type": "display_data"
    }
   ],
   "source": [
    "plt.plot(allr['z'],allr['z']-alli['z'],'o')"
   ]
  },
  {
   "cell_type": "code",
   "execution_count": null,
   "metadata": {},
   "outputs": [],
   "source": []
  }
 ],
 "metadata": {
  "kernelspec": {
   "display_name": "Python 3",
   "language": "python",
   "name": "python3"
  },
  "language_info": {
   "codemirror_mode": {
    "name": "ipython",
    "version": 3
   },
   "file_extension": ".py",
   "mimetype": "text/x-python",
   "name": "python",
   "nbconvert_exporter": "python",
   "pygments_lexer": "ipython3",
   "version": "3.8.5"
  }
 },
 "nbformat": 4,
 "nbformat_minor": 4
}
