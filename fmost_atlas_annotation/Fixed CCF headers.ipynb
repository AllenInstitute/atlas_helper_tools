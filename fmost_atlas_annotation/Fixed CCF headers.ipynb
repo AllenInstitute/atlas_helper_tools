{
 "cells": [
  {
   "cell_type": "code",
   "execution_count": 1,
   "metadata": {},
   "outputs": [],
   "source": [
    "import SimpleITK as sitk\n",
    "import os\n",
    "import glob"
   ]
  },
  {
   "cell_type": "code",
   "execution_count": 2,
   "metadata": {},
   "outputs": [],
   "source": [
    "input_path = \"C:/Users/lydia/OneDrive/Work/DigitalAssets/_UPENN_fMOST/transgenic_lines/mapped_to_ccf\"\n",
    "output_path = \"C:/Users/lydia/OneDrive/Work/DigitalAssets/_UPENN_fMOST/transgenic_lines/mapped_to_ccf_fixed_headers\""
   ]
  },
  {
   "cell_type": "code",
   "execution_count": 3,
   "metadata": {},
   "outputs": [
    {
     "name": "stdout",
     "output_type": "stream",
     "text": [
      "491608671\n",
      "- resampled_blue.mhd\n",
      "-- 491608671_resampled_blue.nii.gz\n",
      "- resampled_green.mhd\n",
      "-- 491608671_resampled_green.nii.gz\n",
      "- resampled_red.mhd\n",
      "-- 491608671_resampled_red.nii.gz\n",
      "492048325\n",
      "- resampled_blue.mhd\n",
      "-- 492048325_resampled_blue.nii.gz\n",
      "- resampled_green.mhd\n",
      "-- 492048325_resampled_green.nii.gz\n",
      "- resampled_red.mhd\n",
      "-- 492048325_resampled_red.nii.gz\n",
      "539655376\n",
      "- resampled_blue.mhd\n",
      "-- 539655376_resampled_blue.nii.gz\n",
      "- resampled_green.mhd\n",
      "-- 539655376_resampled_green.nii.gz\n",
      "- resampled_red.mhd\n",
      "-- 539655376_resampled_red.nii.gz\n",
      "539813642\n",
      "- resampled_blue.mhd\n",
      "-- 539813642_resampled_blue.nii.gz\n",
      "- resampled_green.mhd\n",
      "-- 539813642_resampled_green.nii.gz\n",
      "- resampled_red.mhd\n",
      "-- 539813642_resampled_red.nii.gz\n",
      "541489545\n",
      "- resampled_blue.mhd\n",
      "-- 541489545_resampled_blue.nii.gz\n",
      "- resampled_green.mhd\n",
      "-- 541489545_resampled_green.nii.gz\n",
      "- resampled_red.mhd\n",
      "-- 541489545_resampled_red.nii.gz\n",
      "541728841\n",
      "- resampled_blue.mhd\n",
      "-- 541728841_resampled_blue.nii.gz\n",
      "- resampled_green.mhd\n",
      "-- 541728841_resampled_green.nii.gz\n",
      "- resampled_red.mhd\n",
      "-- 541728841_resampled_red.nii.gz\n",
      "570994466\n",
      "- resampled_blue.mhd\n",
      "-- 570994466_resampled_blue.nii.gz\n",
      "- resampled_green.mhd\n",
      "-- 570994466_resampled_green.nii.gz\n",
      "- resampled_red.mhd\n",
      "-- 570994466_resampled_red.nii.gz\n",
      "average_template_25.nrrd\n",
      "from_lims\n",
      "from_publication_webdav\n"
     ]
    }
   ],
   "source": [
    "# collate input and output files\n",
    "files = {}\n",
    "\n",
    "# loop through each image_series directory\n",
    "dir_list = os.listdir( input_path )\n",
    "\n",
    "for d in dir_list :\n",
    "    \n",
    "    print(d)\n",
    "    \n",
    "    # find resample_*.mhd files\n",
    "    for f in glob.glob( os.path.join( input_path, d, '*.mhd' )) :\n",
    "    \n",
    "        bname = os.path.basename(f)\n",
    "        print('- ' + bname )\n",
    "\n",
    "    # generate output file name\n",
    "        outf = d + '_' + os.path.splitext(bname)[0] + '.nii.gz'\n",
    "        print('-- ' + outf )\n",
    "        \n",
    "        files[f] = os.path.join(output_path,outf)\n"
   ]
  },
  {
   "cell_type": "code",
   "execution_count": 4,
   "metadata": {},
   "outputs": [
    {
     "name": "stdout",
     "output_type": "stream",
     "text": [
      "converting C:/Users/lydia/OneDrive/Work/DigitalAssets/_UPENN_fMOST/transgenic_lines/mapped_to_ccf\\491608671\\resampled_blue.mhd\n",
      "converting C:/Users/lydia/OneDrive/Work/DigitalAssets/_UPENN_fMOST/transgenic_lines/mapped_to_ccf\\491608671\\resampled_green.mhd\n",
      "converting C:/Users/lydia/OneDrive/Work/DigitalAssets/_UPENN_fMOST/transgenic_lines/mapped_to_ccf\\491608671\\resampled_red.mhd\n",
      "converting C:/Users/lydia/OneDrive/Work/DigitalAssets/_UPENN_fMOST/transgenic_lines/mapped_to_ccf\\492048325\\resampled_blue.mhd\n",
      "converting C:/Users/lydia/OneDrive/Work/DigitalAssets/_UPENN_fMOST/transgenic_lines/mapped_to_ccf\\492048325\\resampled_green.mhd\n",
      "converting C:/Users/lydia/OneDrive/Work/DigitalAssets/_UPENN_fMOST/transgenic_lines/mapped_to_ccf\\492048325\\resampled_red.mhd\n",
      "converting C:/Users/lydia/OneDrive/Work/DigitalAssets/_UPENN_fMOST/transgenic_lines/mapped_to_ccf\\539655376\\resampled_blue.mhd\n",
      "converting C:/Users/lydia/OneDrive/Work/DigitalAssets/_UPENN_fMOST/transgenic_lines/mapped_to_ccf\\539655376\\resampled_green.mhd\n",
      "converting C:/Users/lydia/OneDrive/Work/DigitalAssets/_UPENN_fMOST/transgenic_lines/mapped_to_ccf\\539655376\\resampled_red.mhd\n",
      "converting C:/Users/lydia/OneDrive/Work/DigitalAssets/_UPENN_fMOST/transgenic_lines/mapped_to_ccf\\539813642\\resampled_blue.mhd\n",
      "converting C:/Users/lydia/OneDrive/Work/DigitalAssets/_UPENN_fMOST/transgenic_lines/mapped_to_ccf\\539813642\\resampled_green.mhd\n",
      "converting C:/Users/lydia/OneDrive/Work/DigitalAssets/_UPENN_fMOST/transgenic_lines/mapped_to_ccf\\539813642\\resampled_red.mhd\n",
      "converting C:/Users/lydia/OneDrive/Work/DigitalAssets/_UPENN_fMOST/transgenic_lines/mapped_to_ccf\\541489545\\resampled_blue.mhd\n",
      "converting C:/Users/lydia/OneDrive/Work/DigitalAssets/_UPENN_fMOST/transgenic_lines/mapped_to_ccf\\541489545\\resampled_green.mhd\n",
      "converting C:/Users/lydia/OneDrive/Work/DigitalAssets/_UPENN_fMOST/transgenic_lines/mapped_to_ccf\\541489545\\resampled_red.mhd\n",
      "converting C:/Users/lydia/OneDrive/Work/DigitalAssets/_UPENN_fMOST/transgenic_lines/mapped_to_ccf\\541728841\\resampled_blue.mhd\n",
      "converting C:/Users/lydia/OneDrive/Work/DigitalAssets/_UPENN_fMOST/transgenic_lines/mapped_to_ccf\\541728841\\resampled_green.mhd\n",
      "converting C:/Users/lydia/OneDrive/Work/DigitalAssets/_UPENN_fMOST/transgenic_lines/mapped_to_ccf\\541728841\\resampled_red.mhd\n",
      "converting C:/Users/lydia/OneDrive/Work/DigitalAssets/_UPENN_fMOST/transgenic_lines/mapped_to_ccf\\570994466\\resampled_blue.mhd\n",
      "converting C:/Users/lydia/OneDrive/Work/DigitalAssets/_UPENN_fMOST/transgenic_lines/mapped_to_ccf\\570994466\\resampled_green.mhd\n",
      "converting C:/Users/lydia/OneDrive/Work/DigitalAssets/_UPENN_fMOST/transgenic_lines/mapped_to_ccf\\570994466\\resampled_red.mhd\n"
     ]
    }
   ],
   "source": [
    "# process input files\n",
    "\n",
    "for inf in files :\n",
    "    \n",
    "    print(\"converting %s\" % inf)\n",
    "    \n",
    "    vol = sitk.ReadImage(inf)\n",
    "\n",
    "    #\n",
    "    # Add in correction direction to transform between RAS to PIR\n",
    "    #\n",
    "    direction = [-0.0, 0.0, -1.0, 1.0, -0.0, 0.0, 0.0, -1.0, 0.0]\n",
    "    vol.SetDirection( direction )\n",
    "\n",
    "    #\n",
    "    # Define scale relative to millimeters (assumed by many tools)\n",
    "    #\n",
    "    spacing = [ x * 1e-3 for x in vol.GetSpacing()]\n",
    "    vol.SetSpacing(spacing)\n",
    "\n",
    "    #\n",
    "    # save file to output directory\n",
    "    #\n",
    "    sitk.WriteImage( vol, files[inf], True )\n",
    "\n",
    "    "
   ]
  },
  {
   "cell_type": "code",
   "execution_count": null,
   "metadata": {},
   "outputs": [],
   "source": []
  }
 ],
 "metadata": {
  "kernelspec": {
   "display_name": "Python 3",
   "language": "python",
   "name": "python3"
  },
  "language_info": {
   "codemirror_mode": {
    "name": "ipython",
    "version": 3
   },
   "file_extension": ".py",
   "mimetype": "text/x-python",
   "name": "python",
   "nbconvert_exporter": "python",
   "pygments_lexer": "ipython3",
   "version": "3.8.5"
  }
 },
 "nbformat": 4,
 "nbformat_minor": 4
}
