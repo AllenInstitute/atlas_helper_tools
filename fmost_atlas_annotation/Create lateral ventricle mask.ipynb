{
 "cells": [
  {
   "cell_type": "code",
   "execution_count": 1,
   "metadata": {},
   "outputs": [],
   "source": [
    "import SimpleITK as sitk\n",
    "import pandas as pd\n",
    "import os\n",
    "import numpy as np\n",
    "import matplotlib.colors as mcolors\n",
    "import csv"
   ]
  },
  {
   "cell_type": "code",
   "execution_count": 2,
   "metadata": {},
   "outputs": [],
   "source": [
    "#\n",
    "# open structure properties file\n",
    "#\n",
    "csv_file = 'structure_properties.csv'\n",
    "df = pd.read_csv(csv_file)\n",
    "df.set_index('acronym',inplace=True)"
   ]
  },
  {
   "cell_type": "code",
   "execution_count": 3,
   "metadata": {},
   "outputs": [],
   "source": [
    "# output directory\n",
    "output_directory = 'uci_ad_ccf'"
   ]
  },
  {
   "cell_type": "code",
   "execution_count": 4,
   "metadata": {},
   "outputs": [],
   "source": [
    "#\n",
    "# open annotation file\n",
    "#\n",
    "model_directory = \"C:/Users/lydia/OneDrive/Work/DigitalAssets/mouse_ccf\"\n",
    "annotation_file = os.path.join( model_directory,  \"annotation/ccf_2017\", \"annotation_10.nrrd\")\n",
    "\n",
    "annotation = sitk.ReadImage( annotation_file )"
   ]
  },
  {
   "cell_type": "code",
   "execution_count": 5,
   "metadata": {},
   "outputs": [],
   "source": [
    "def create_mask( structure, annotation, df, fg = 1 ) :\n",
    "    \n",
    "    slist = df.loc[structure]['substructures']\n",
    "    slist = slist.split('/')\n",
    "    slist = [ int(x) for x in slist ]\n",
    "    \n",
    "    arr = sitk.GetArrayFromImage( annotation )\n",
    "    idx = np.isin(arr,slist)\n",
    "    output = np.zeros(arr.shape,np.uint16)\n",
    "    output[idx] = fg\n",
    "    \n",
    "    output_image = sitk.GetImageFromArray( output )\n",
    "    output_image.CopyInformation( annotation )    \n",
    "    return output_image"
   ]
  },
  {
   "cell_type": "code",
   "execution_count": 6,
   "metadata": {},
   "outputs": [],
   "source": [
    "mask = create_mask('VL', annotation, df )"
   ]
  },
  {
   "cell_type": "code",
   "execution_count": 7,
   "metadata": {},
   "outputs": [],
   "source": [
    "output_file = os.path.join(output_directory, 'VL_mask_image.nrrd')\n",
    "sitk.WriteImage( mask, output_file, True )"
   ]
  },
  {
   "cell_type": "code",
   "execution_count": 12,
   "metadata": {},
   "outputs": [],
   "source": [
    "#\n",
    "# open updated annotation file\n",
    "#\n",
    "model_directory = \"C:/Users/lydia/OneDrive/Work/DigitalAssets/UpdatedCCF_2020\"\n",
    "annotation_file = os.path.join( model_directory, \"2020_updated_annotation_10.nrrd\")\n",
    "\n",
    "annotation = sitk.ReadImage( annotation_file )"
   ]
  },
  {
   "cell_type": "code",
   "execution_count": 13,
   "metadata": {},
   "outputs": [],
   "source": [
    "mask = create_mask('CA', annotation, df)\n",
    "mask = sitk.Not(mask)"
   ]
  },
  {
   "cell_type": "code",
   "execution_count": 14,
   "metadata": {},
   "outputs": [],
   "source": [
    "output = sitk.Mask( annotation, mask, 0, 1 )"
   ]
  },
  {
   "cell_type": "code",
   "execution_count": 15,
   "metadata": {},
   "outputs": [],
   "source": [
    "output_file = os.path.join(output_directory, 'CA_layer_annotation.nrrd')\n",
    "sitk.WriteImage( output, output_file, True )"
   ]
  },
  {
   "cell_type": "code",
   "execution_count": null,
   "metadata": {},
   "outputs": [],
   "source": []
  }
 ],
 "metadata": {
  "kernelspec": {
   "display_name": "Python 3",
   "language": "python",
   "name": "python3"
  },
  "language_info": {
   "codemirror_mode": {
    "name": "ipython",
    "version": 3
   },
   "file_extension": ".py",
   "mimetype": "text/x-python",
   "name": "python",
   "nbconvert_exporter": "python",
   "pygments_lexer": "ipython3",
   "version": "3.8.5"
  }
 },
 "nbformat": 4,
 "nbformat_minor": 4
}
