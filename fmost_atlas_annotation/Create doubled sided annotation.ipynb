{
 "cells": [
  {
   "cell_type": "code",
   "execution_count": 1,
   "metadata": {},
   "outputs": [],
   "source": [
    "import SimpleITK as sitk\n",
    "import os\n",
    "import shutil\n",
    "import numpy as np"
   ]
  },
  {
   "cell_type": "code",
   "execution_count": 2,
   "metadata": {},
   "outputs": [],
   "source": [
    "# input_directory\n",
    "model_directory = \"C:/Users/lydia/OneDrive/Work/DigitalAssets/_UPENN_fMOST/\"\n",
    "template_file = os.path.join( model_directory,  \"25um_V3\", \"AvgfMOSTAtlas25umV3.nii.gz\")"
   ]
  },
  {
   "cell_type": "code",
   "execution_count": 3,
   "metadata": {},
   "outputs": [],
   "source": [
    "# brain inside/outside mask from Maitham's analysis\n",
    "mask_file = os.path.join( model_directory, \"outer_boundaries/surface_voxels_v02/output\", \"fmost_inner_outer_mask.nii.gz\")"
   ]
  },
  {
   "cell_type": "code",
   "execution_count": 4,
   "metadata": {},
   "outputs": [],
   "source": [
    "# output directory\n",
    "output_directory = 'landmarks_v05/fmost_annotation'\n",
    "input_file = os.path.join( output_directory, 'fmost_landmarks_one_sided.nrrd' )\n",
    "flipped_file = os.path.join( output_directory, 'fmost_template_flipped.nii.gz' )\n",
    "output_file = os.path.join( output_directory, 'fmost_landmarks_double_sided.nrrd')\n",
    "filled_file = os.path.join( output_directory, 'fmost_landmarks_double_sided_filled.nii.gz')"
   ]
  },
  {
   "cell_type": "code",
   "execution_count": 5,
   "metadata": {},
   "outputs": [],
   "source": [
    "# flip the template image for validation\n",
    "template = sitk.ReadImage( template_file )\n",
    "resampled = sitk.Flip( template, (True,False,False), False )\n",
    "resampled.CopyInformation( template )\n",
    "\n",
    "sitk.WriteImage( resampled, flipped_file, True )"
   ]
  },
  {
   "cell_type": "code",
   "execution_count": 6,
   "metadata": {},
   "outputs": [],
   "source": [
    "# flip and combine the annotation file\n",
    "annotation = sitk.ReadImage( input_file )\n",
    "resampled = sitk.Flip( annotation, (True,False,False), False )\n",
    "resampled.CopyInformation( template )\n",
    "annotation.CopyInformation( template )\n",
    "\n",
    "resampled = sitk.Maximum( annotation, resampled )\n",
    "sitk.WriteImage( resampled, output_file, True )"
   ]
  },
  {
   "cell_type": "code",
   "execution_count": 7,
   "metadata": {},
   "outputs": [],
   "source": [
    "# combine manual and automated annotation into a single file\n",
    "mask = sitk.ReadImage( mask_file )\n",
    "\n",
    "xarr = sitk.GetArrayFromImage( mask )\n",
    "yarr = sitk.GetArrayFromImage( resampled )\n",
    "idx = np.where( yarr > 0 )\n",
    "xarr[idx] = yarr[idx]\n",
    "\n",
    "annotation = sitk.GetImageFromArray( xarr )\n",
    "annotation.CopyInformation( template )\n",
    "\n",
    "sitk.WriteImage( annotation, filled_file, True)\n"
   ]
  },
  {
   "cell_type": "code",
   "execution_count": 8,
   "metadata": {},
   "outputs": [
    {
     "data": {
      "text/plain": [
       "'landmarks_v05/fmost_annotation\\\\landmark_description.txt'"
      ]
     },
     "execution_count": 8,
     "metadata": {},
     "output_type": "execute_result"
    }
   ],
   "source": [
    "# copy the label description files to output directory\n",
    "label_file = os.path.join( output_directory, '../ccf_annotation/landmark_description.txt')\n",
    "output_file = os.path.join( output_directory, 'landmark_description.txt')\n",
    "\n",
    "shutil.copyfile(label_file, output_file)"
   ]
  },
  {
   "cell_type": "code",
   "execution_count": null,
   "metadata": {},
   "outputs": [],
   "source": []
  }
 ],
 "metadata": {
  "kernelspec": {
   "display_name": "Python 3",
   "language": "python",
   "name": "python3"
  },
  "language_info": {
   "codemirror_mode": {
    "name": "ipython",
    "version": 3
   },
   "file_extension": ".py",
   "mimetype": "text/x-python",
   "name": "python",
   "nbconvert_exporter": "python",
   "pygments_lexer": "ipython3",
   "version": "3.8.5"
  }
 },
 "nbformat": 4,
 "nbformat_minor": 4
}
