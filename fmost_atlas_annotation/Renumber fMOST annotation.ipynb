{
 "cells": [
  {
   "cell_type": "code",
   "execution_count": 10,
   "metadata": {},
   "outputs": [],
   "source": [
    "import SimpleITK as sitk\n",
    "import os\n",
    "import numpy as np"
   ]
  },
  {
   "cell_type": "code",
   "execution_count": 11,
   "metadata": {},
   "outputs": [],
   "source": [
    "# input_directory\n",
    "model_directory = \"C:/Users/lydia/OneDrive/Work/DigitalAssets/_UPENN_fMOST/\"\n",
    "annotation_file = os.path.join( model_directory,  \"Quanxin\", \"fimbra_habenular_choriodplexus_optictract.nrrd\")"
   ]
  },
  {
   "cell_type": "code",
   "execution_count": 12,
   "metadata": {},
   "outputs": [],
   "source": [
    "# output directory\n",
    "output_directory = 'landmarks_v02/fmost_annotation'"
   ]
  },
  {
   "cell_type": "code",
   "execution_count": 13,
   "metadata": {},
   "outputs": [],
   "source": [
    "lut = {}\n",
    "lut[1] = 6\n",
    "lut[4] = 11\n",
    "lut[2] = 8\n",
    "lut[5] = 9\n",
    "lut[6] = 12"
   ]
  },
  {
   "cell_type": "code",
   "execution_count": 16,
   "metadata": {},
   "outputs": [],
   "source": [
    "# open volume and convert to array\n",
    "\n",
    "annotation = sitk.ReadImage( annotation_file )\n",
    "input_array = sitk.GetArrayFromImage( annotation )\n",
    "\n",
    "# initialized output array\n",
    "output_array = np.zeros( input_array.shape, input_array.dtype )\n",
    "\n",
    "# renumber the segementation mask\n",
    "for k in lut :\n",
    "    idx = np.where( input_array == k )\n",
    "    output_array[idx] = lut[k]\n",
    "\n",
    "renumbered = sitk.GetImageFromArray( output_array )\n",
    "renumbered.CopyInformation( annotation )"
   ]
  },
  {
   "cell_type": "code",
   "execution_count": 18,
   "metadata": {},
   "outputs": [],
   "source": [
    "output_file = os.path.join( output_directory, 'fmost_landmarks_one_sided.nrrd')\n",
    "sitk.WriteImage( renumbered, output_file, True )"
   ]
  },
  {
   "cell_type": "code",
   "execution_count": null,
   "metadata": {},
   "outputs": [],
   "source": []
  }
 ],
 "metadata": {
  "kernelspec": {
   "display_name": "Python 3",
   "language": "python",
   "name": "python3"
  },
  "language_info": {
   "codemirror_mode": {
    "name": "ipython",
    "version": 3
   },
   "file_extension": ".py",
   "mimetype": "text/x-python",
   "name": "python",
   "nbconvert_exporter": "python",
   "pygments_lexer": "ipython3",
   "version": "3.8.5"
  }
 },
 "nbformat": 4,
 "nbformat_minor": 4
}
