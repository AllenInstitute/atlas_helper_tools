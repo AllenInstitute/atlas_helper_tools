{
 "cells": [
  {
   "cell_type": "code",
   "execution_count": 1,
   "metadata": {},
   "outputs": [],
   "source": [
    "import SimpleITK as sitk\n",
    "import os\n",
    "import numpy as np"
   ]
  },
  {
   "cell_type": "code",
   "execution_count": 2,
   "metadata": {},
   "outputs": [],
   "source": [
    "# Related notebooks\n",
    "# Create ventricular landmarks (the matching annotation in the CCF)"
   ]
  },
  {
   "cell_type": "code",
   "execution_count": 3,
   "metadata": {},
   "outputs": [],
   "source": [
    "# input_directory\n",
    "model_directory = \"C:/Users/lydia/OneDrive/Work/DigitalAssets/_UPENN_fMOST/\""
   ]
  },
  {
   "cell_type": "code",
   "execution_count": 4,
   "metadata": {},
   "outputs": [],
   "source": [
    "# output directory\n",
    "output_directory = 'landmarks_v06/fmost_annotation'\n",
    "os.makedirs(output_directory,exist_ok=True)"
   ]
  },
  {
   "cell_type": "code",
   "execution_count": 5,
   "metadata": {},
   "outputs": [],
   "source": [
    "def overlay( base, image ) :\n",
    "    \n",
    "    barr = sitk.GetArrayFromImage( base )\n",
    "    iarr = sitk.GetArrayFromImage( image )\n",
    "    \n",
    "    idx = np.where( iarr > 0 )\n",
    "    barr[idx] = iarr[idx]\n",
    "    \n",
    "    output_image = sitk.GetImageFromArray( barr )\n",
    "    output_image.CopyInformation( base )    \n",
    "    return output_image"
   ]
  },
  {
   "cell_type": "code",
   "execution_count": 6,
   "metadata": {},
   "outputs": [],
   "source": [
    "# list of annotations to be processed\n",
    "adict = {}"
   ]
  },
  {
   "cell_type": "code",
   "execution_count": 7,
   "metadata": {},
   "outputs": [],
   "source": [
    "a = {}\n",
    "a['annotation_file'] = os.path.join( model_directory,  \"Quanxin\", \"fimbra_habenular_choriod_plexus_optic_tract_20010609.nrrd\")\n",
    "lut = {}\n",
    "lut[1] = 6\n",
    "lut[4] = 11\n",
    "lut[2] = 8\n",
    "lut[5] = 9\n",
    "lut[6] = 12\n",
    "a['lut'] = lut\n",
    "a['flip'] = False\n",
    "adict['fimbra_habenular_choriod_plexus_optic_tract'] = a"
   ]
  },
  {
   "cell_type": "code",
   "execution_count": 8,
   "metadata": {},
   "outputs": [],
   "source": [
    "a = {}\n",
    "a['annotation_file'] = os.path.join( model_directory,  \"Quanxin\", \"CP-fMOST9272021.nrrd\")\n",
    "lut = {}\n",
    "lut[2] = 13\n",
    "a['lut'] = lut\n",
    "a['flip'] = True\n",
    "adict['CP'] = a"
   ]
  },
  {
   "cell_type": "code",
   "execution_count": 9,
   "metadata": {},
   "outputs": [],
   "source": [
    "a = {}\n",
    "a['annotation_file'] = os.path.join( model_directory,  \"Quanxin\", \"CA-DG-SUB_modified.nrrd\")\n",
    "lut = {}\n",
    "lut[2] = 14\n",
    "a['lut'] = lut\n",
    "a['flip'] = True\n",
    "adict['HIP'] = a"
   ]
  },
  {
   "cell_type": "code",
   "execution_count": 10,
   "metadata": {},
   "outputs": [
    {
     "name": "stdout",
     "output_type": "stream",
     "text": [
      "processing:fimbra_habenular_choriod_plexus_optic_tract\n",
      " : C:/Users/lydia/OneDrive/Work/DigitalAssets/_UPENN_fMOST/Quanxin\\fimbra_habenular_choriod_plexus_optic_tract_20010609.nrrd\n",
      "processing:CP\n",
      " : C:/Users/lydia/OneDrive/Work/DigitalAssets/_UPENN_fMOST/Quanxin\\CP-fMOST9272021.nrrd\n",
      " : flipping L/R\n",
      "processing:HIP\n",
      " : C:/Users/lydia/OneDrive/Work/DigitalAssets/_UPENN_fMOST/Quanxin\\CA-DG-SUB_modified.nrrd\n",
      " : flipping L/R\n"
     ]
    }
   ],
   "source": [
    "combined = None\n",
    "\n",
    "for a in adict :\n",
    "    \n",
    "    print(\"processing:\" + a)\n",
    "    print(\" : \" + adict[a]['annotation_file'])\n",
    "    \n",
    "    # open volume and convert to array\n",
    "    annotation = sitk.ReadImage( adict[a]['annotation_file'] )\n",
    "    \n",
    "    if adict[a]['flip'] :\n",
    "        print(\" : \" + \"flipping L/R\")\n",
    "        annotation = sitk.Flip( annotation, [True,False,False])\n",
    "        \n",
    "    input_array = sitk.GetArrayFromImage( annotation )\n",
    "    \n",
    "    # initialized output array\n",
    "    output_array = np.zeros( input_array.shape, input_array.dtype )\n",
    "    \n",
    "    # renumber the segementation mask\n",
    "    lut = adict[a]['lut']\n",
    "    for k in lut :\n",
    "        idx = np.where( input_array == k )\n",
    "        output_array[idx] = lut[k]\n",
    "        \n",
    "    renumbered = sitk.GetImageFromArray( output_array )\n",
    "    renumbered.CopyInformation( annotation )\n",
    "    \n",
    "    if combined == None :\n",
    "        combined = overlay( renumbered, renumbered )\n",
    "    else :\n",
    "        combined = overlay(combined, renumbered)\n",
    "\n",
    "    "
   ]
  },
  {
   "cell_type": "code",
   "execution_count": 11,
   "metadata": {},
   "outputs": [],
   "source": [
    "output_file = os.path.join( output_directory, 'fmost_landmarks_one_sided.nrrd')\n",
    "sitk.WriteImage( combined, output_file, True )"
   ]
  },
  {
   "cell_type": "code",
   "execution_count": 12,
   "metadata": {},
   "outputs": [],
   "source": [
    "# Next: create double sided version of the landmarks"
   ]
  }
 ],
 "metadata": {
  "kernelspec": {
   "display_name": "Python 3",
   "language": "python",
   "name": "python3"
  },
  "language_info": {
   "codemirror_mode": {
    "name": "ipython",
    "version": 3
   },
   "file_extension": ".py",
   "mimetype": "text/x-python",
   "name": "python",
   "nbconvert_exporter": "python",
   "pygments_lexer": "ipython3",
   "version": "3.8.5"
  }
 },
 "nbformat": 4,
 "nbformat_minor": 4
}
