{
 "cells": [
  {
   "cell_type": "code",
   "execution_count": 23,
   "metadata": {},
   "outputs": [],
   "source": [
    "import os\n",
    "import glob\n",
    "import pandas as pd"
   ]
  },
  {
   "cell_type": "code",
   "execution_count": 24,
   "metadata": {},
   "outputs": [],
   "source": [
    "#model_directory = \"/allen/programs/celltypes/workgroups/mousecelltypes/_UPENN_fMOST\"\n",
    "model_directory = \"C:/Users/lydia/OneDrive/Work/DigitalAssets/_UPENN_fMOST\"\n",
    "\n",
    "sample_id = '192343'\n",
    "input_directory = os.path.join( model_directory,\"HUSTReproduction_9_7_2021\",\"Sandbox\",\"HUST_REGISTRATION_AllCells_OriginalSent\", sample_id )\n",
    "output_directory = os.path.join( model_directory,\"HUSTReproduction_9_7_2021\",\"Sandbox\",\"HUST_REGISTRATION_AllCells_in_micron\", sample_id)\n"
   ]
  },
  {
   "cell_type": "code",
   "execution_count": 25,
   "metadata": {},
   "outputs": [],
   "source": [
    "def swc_to_dataframe( file_name ) :\n",
    "    col_names = ['id', 'type', 'x', 'y', 'z', 'radius', 'parent', 'seg_id', 'level', 'mode', 'timestamp', 'TFresindex']\n",
    "    df = pd.read_csv( file_name, sep=r\"\\s+\", comment = \"#\", names = col_names, index_col = 'id')\n",
    "    return df"
   ]
  },
  {
   "cell_type": "code",
   "execution_count": 26,
   "metadata": {},
   "outputs": [],
   "source": [
    "spacing = {}\n",
    "spacing['x'] = 0.35\n",
    "spacing['y'] = 0.35\n",
    "spacing['z'] = 1\n",
    "\n",
    "offset = {}\n",
    "offset['x'] = 0\n",
    "offset['y'] = 0\n",
    "offset['z'] = 0"
   ]
  },
  {
   "cell_type": "code",
   "execution_count": 27,
   "metadata": {},
   "outputs": [
    {
     "name": "stdout",
     "output_type": "stream",
     "text": [
      "- C:/Users/lydia/OneDrive/Work/DigitalAssets/_UPENN_fMOST\\HUSTReproduction_9_7_2021\\Sandbox\\HUST_REGISTRATION_AllCells_OriginalSent\\192343\\192343_3226-X6435-Y14389.swc\n",
      "- C:/Users/lydia/OneDrive/Work/DigitalAssets/_UPENN_fMOST\\HUSTReproduction_9_7_2021\\Sandbox\\HUST_REGISTRATION_AllCells_OriginalSent\\192343\\192343_3481-X7225-Y16596.swc\n",
      "- C:/Users/lydia/OneDrive/Work/DigitalAssets/_UPENN_fMOST\\HUSTReproduction_9_7_2021\\Sandbox\\HUST_REGISTRATION_AllCells_OriginalSent\\192343\\192343_3985-X6283-Y20312.swc\n",
      "- C:/Users/lydia/OneDrive/Work/DigitalAssets/_UPENN_fMOST\\HUSTReproduction_9_7_2021\\Sandbox\\HUST_REGISTRATION_AllCells_OriginalSent\\192343\\192343_5011-X4797-Y11341.swc\n",
      "- C:/Users/lydia/OneDrive/Work/DigitalAssets/_UPENN_fMOST\\HUSTReproduction_9_7_2021\\Sandbox\\HUST_REGISTRATION_AllCells_OriginalSent\\192343\\192343_5289-X4672-Y10733.swc\n",
      "- C:/Users/lydia/OneDrive/Work/DigitalAssets/_UPENN_fMOST\\HUSTReproduction_9_7_2021\\Sandbox\\HUST_REGISTRATION_AllCells_OriginalSent\\192343\\192343_5384-X4338-Y12696.swc\n",
      "- C:/Users/lydia/OneDrive/Work/DigitalAssets/_UPENN_fMOST\\HUSTReproduction_9_7_2021\\Sandbox\\HUST_REGISTRATION_AllCells_OriginalSent\\192343\\192343_5525-X6515-Y25071.swc\n",
      "- C:/Users/lydia/OneDrive/Work/DigitalAssets/_UPENN_fMOST\\HUSTReproduction_9_7_2021\\Sandbox\\HUST_REGISTRATION_AllCells_OriginalSent\\192343\\192343_5742-X3633-Y12817.swc\n",
      "- C:/Users/lydia/OneDrive/Work/DigitalAssets/_UPENN_fMOST\\HUSTReproduction_9_7_2021\\Sandbox\\HUST_REGISTRATION_AllCells_OriginalSent\\192343\\192343_6093-X5680-Y24926.swc\n",
      "- C:/Users/lydia/OneDrive/Work/DigitalAssets/_UPENN_fMOST\\HUSTReproduction_9_7_2021\\Sandbox\\HUST_REGISTRATION_AllCells_OriginalSent\\192343\\192343_6135-X5300-Y24595.swc\n",
      "- C:/Users/lydia/OneDrive/Work/DigitalAssets/_UPENN_fMOST\\HUSTReproduction_9_7_2021\\Sandbox\\HUST_REGISTRATION_AllCells_OriginalSent\\192343\\192343_6211-X5398-Y7060.swc\n",
      "- C:/Users/lydia/OneDrive/Work/DigitalAssets/_UPENN_fMOST\\HUSTReproduction_9_7_2021\\Sandbox\\HUST_REGISTRATION_AllCells_OriginalSent\\192343\\192343_6777-X4052-Y23666.swc\n",
      "- C:/Users/lydia/OneDrive/Work/DigitalAssets/_UPENN_fMOST\\HUSTReproduction_9_7_2021\\Sandbox\\HUST_REGISTRATION_AllCells_OriginalSent\\192343\\192343_7174-X3824-Y23571.swc\n",
      "- C:/Users/lydia/OneDrive/Work/DigitalAssets/_UPENN_fMOST\\HUSTReproduction_9_7_2021\\Sandbox\\HUST_REGISTRATION_AllCells_OriginalSent\\192343\\192343_7524-X5744-Y25593.swc\n",
      "- C:/Users/lydia/OneDrive/Work/DigitalAssets/_UPENN_fMOST\\HUSTReproduction_9_7_2021\\Sandbox\\HUST_REGISTRATION_AllCells_OriginalSent\\192343\\192343_8154-X4030-Y21534.swc\n",
      "- C:/Users/lydia/OneDrive/Work/DigitalAssets/_UPENN_fMOST\\HUSTReproduction_9_7_2021\\Sandbox\\HUST_REGISTRATION_AllCells_OriginalSent\\192343\\192343_8460-X8097-Y5617.swc\n",
      "- C:/Users/lydia/OneDrive/Work/DigitalAssets/_UPENN_fMOST\\HUSTReproduction_9_7_2021\\Sandbox\\HUST_REGISTRATION_AllCells_OriginalSent\\192343\\192343_DoneCellSoma.ano.swc\n",
      "- C:/Users/lydia/OneDrive/Work/DigitalAssets/_UPENN_fMOST\\HUSTReproduction_9_7_2021\\Sandbox\\HUST_REGISTRATION_AllCells_OriginalSent\\192343\\192343_somaMarkers.ano.swc\n"
     ]
    }
   ],
   "source": [
    "for ipath in glob.glob(os.path.join(input_directory, \"*.swc\")):\n",
    "    \n",
    "    print('- ' + ipath)\n",
    "    \n",
    "    bname = os.path.basename(ipath)\n",
    "    opath = os.path.join( output_directory, bname )\n",
    "    \n",
    "    # open swc file\n",
    "    df = swc_to_dataframe( ipath )\n",
    "    \n",
    "    # transform (x,y,z) to microns : multiple original (x,y,z) by resolution\n",
    "    for c in ['x','y','z'] :\n",
    "        df[c] = (df[c] * spacing[c]) + offset[c]    \n",
    "    \n",
    "    # save without headers to support matlab load\n",
    "    df.to_csv(opath,sep = ' ', header=False)\n",
    "    "
   ]
  },
  {
   "cell_type": "code",
   "execution_count": null,
   "metadata": {},
   "outputs": [],
   "source": []
  },
  {
   "cell_type": "code",
   "execution_count": null,
   "metadata": {},
   "outputs": [],
   "source": []
  }
 ],
 "metadata": {
  "kernelspec": {
   "display_name": "Python 3",
   "language": "python",
   "name": "python3"
  },
  "language_info": {
   "codemirror_mode": {
    "name": "ipython",
    "version": 3
   },
   "file_extension": ".py",
   "mimetype": "text/x-python",
   "name": "python",
   "nbconvert_exporter": "python",
   "pygments_lexer": "ipython3",
   "version": "3.8.5"
  }
 },
 "nbformat": 4,
 "nbformat_minor": 4
}
