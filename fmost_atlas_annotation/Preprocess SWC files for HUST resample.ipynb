{
 "cells": [
  {
   "cell_type": "code",
   "execution_count": 1,
   "metadata": {},
   "outputs": [],
   "source": [
    "import os\n",
    "import glob\n",
    "import pandas as pd"
   ]
  },
  {
   "cell_type": "code",
   "execution_count": 2,
   "metadata": {},
   "outputs": [],
   "source": [
    "#model_directory = \"/allen/programs/celltypes/workgroups/mousecelltypes/_UPENN_fMOST\"\n",
    "model_directory = \"C:/Users/lydia/OneDrive/Work/DigitalAssets/_UPENN_fMOST\"\n",
    "\n",
    "input_directory = os.path.join( model_directory,\"HUSTReproduction_9_7_2021\",\"Original\",\"182709_ByHUST_original_sent\")\n",
    "output_directory = os.path.join( model_directory,\"HUSTReproduction_9_7_2021\",\"Sandbox\",\"preprocessed_input_with_offset\")\n"
   ]
  },
  {
   "cell_type": "code",
   "execution_count": 3,
   "metadata": {},
   "outputs": [],
   "source": [
    "def swc_to_dataframe( file_name ) :\n",
    "    col_names = ['id', 'type', 'x', 'y', 'z', 'radius', 'parent', 'seg_id', 'level', 'mode', 'timestamp', 'TFresindex']\n",
    "    df = pd.read_csv( file_name, sep=r\"\\s+\", comment = \"#\", names = col_names, index_col = 'id')\n",
    "    return df"
   ]
  },
  {
   "cell_type": "code",
   "execution_count": 4,
   "metadata": {},
   "outputs": [],
   "source": [
    "spacing = {}\n",
    "spacing['x'] = 0.35\n",
    "spacing['y'] = 0.35\n",
    "spacing['z'] = 1\n",
    "\n",
    "offset = {}\n",
    "offset['x'] = 0\n",
    "offset['y'] = 0\n",
    "offset['z'] = 0"
   ]
  },
  {
   "cell_type": "code",
   "execution_count": 5,
   "metadata": {},
   "outputs": [
    {
     "name": "stdout",
     "output_type": "stream",
     "text": [
      "- C:/Users/lydia/OneDrive/Work/DigitalAssets/_UPENN_fMOST\\HUSTReproduction_9_7_2021\\Original\\182709_ByHUST_original_sent\\182709_1392-X9267-Y12144.swc\n",
      "- C:/Users/lydia/OneDrive/Work/DigitalAssets/_UPENN_fMOST\\HUSTReproduction_9_7_2021\\Original\\182709_ByHUST_original_sent\\182709_1565-X10730-Y13868.swc\n",
      "- C:/Users/lydia/OneDrive/Work/DigitalAssets/_UPENN_fMOST\\HUSTReproduction_9_7_2021\\Original\\182709_ByHUST_original_sent\\182709_1907-X12545-Y15265.swc\n",
      "- C:/Users/lydia/OneDrive/Work/DigitalAssets/_UPENN_fMOST\\HUSTReproduction_9_7_2021\\Original\\182709_ByHUST_original_sent\\182709_2078-X10276-Y14982.swc\n",
      "- C:/Users/lydia/OneDrive/Work/DigitalAssets/_UPENN_fMOST\\HUSTReproduction_9_7_2021\\Original\\182709_ByHUST_original_sent\\182709_405-X9581-Y19368.swc\n",
      "- C:/Users/lydia/OneDrive/Work/DigitalAssets/_UPENN_fMOST\\HUSTReproduction_9_7_2021\\Original\\182709_ByHUST_original_sent\\182709_795-X9596-Y19078.swc\n",
      "- C:/Users/lydia/OneDrive/Work/DigitalAssets/_UPENN_fMOST\\HUSTReproduction_9_7_2021\\Original\\182709_ByHUST_original_sent\\182709_8205-X11007-Y9343.swc\n",
      "- C:/Users/lydia/OneDrive/Work/DigitalAssets/_UPENN_fMOST\\HUSTReproduction_9_7_2021\\Original\\182709_ByHUST_original_sent\\182709_somaMarkers.ano.swc\n"
     ]
    }
   ],
   "source": [
    "for ipath in glob.glob(os.path.join(input_directory, \"*.swc\")):\n",
    "    \n",
    "    print('- ' + ipath)\n",
    "    \n",
    "    bname = os.path.basename(ipath)\n",
    "    opath = os.path.join( output_directory, bname )\n",
    "    \n",
    "    # open swc file\n",
    "    df = swc_to_dataframe( ipath )\n",
    "    \n",
    "    # transform (x,y,z) to microns : multiple original (x,y,z) by resolution\n",
    "    for c in ['x','y','z'] :\n",
    "        df[c] = (df[c] * spacing[c]) + offset[c]    \n",
    "    \n",
    "    # save without headers to support matlab load\n",
    "    df.to_csv(opath,sep = ' ', header=False)\n",
    "    "
   ]
  },
  {
   "cell_type": "code",
   "execution_count": null,
   "metadata": {},
   "outputs": [],
   "source": []
  },
  {
   "cell_type": "code",
   "execution_count": null,
   "metadata": {},
   "outputs": [],
   "source": []
  }
 ],
 "metadata": {
  "kernelspec": {
   "display_name": "Python 3",
   "language": "python",
   "name": "python3"
  },
  "language_info": {
   "codemirror_mode": {
    "name": "ipython",
    "version": 3
   },
   "file_extension": ".py",
   "mimetype": "text/x-python",
   "name": "python",
   "nbconvert_exporter": "python",
   "pygments_lexer": "ipython3",
   "version": "3.8.5"
  }
 },
 "nbformat": 4,
 "nbformat_minor": 4
}
