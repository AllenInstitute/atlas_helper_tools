{
 "cells": [
  {
   "cell_type": "code",
   "execution_count": 26,
   "metadata": {},
   "outputs": [],
   "source": [
    "import SimpleITK as sitk\n",
    "import os\n",
    "import numpy as np"
   ]
  },
  {
   "cell_type": "code",
   "execution_count": 2,
   "metadata": {},
   "outputs": [],
   "source": [
    "#\n",
    "# Validate the average template volume\n",
    "#\n",
    "canonical_directory = \"C:/Users/lydia/OneDrive/Work/DigitalAssets/converted_mouse_ccf/\"\n",
    "canonical_file = os.path.join( canonical_directory, \"average_template\", \"average_template_25.nii.gz\")\n",
    "\n",
    "model_directory = \"C:/Users/lydia/OneDrive/Work/DigitalAssets/_UPENN_fMOST/\"\n",
    "model_file = os.path.join( model_directory, \"25um_V3\", \"CCFTemplate25um.nii.gz\")"
   ]
  },
  {
   "cell_type": "code",
   "execution_count": 3,
   "metadata": {},
   "outputs": [],
   "source": [
    "canonical = sitk.ReadImage( canonical_file )\n",
    "model = sitk.ReadImage( model_file )"
   ]
  },
  {
   "cell_type": "code",
   "execution_count": 4,
   "metadata": {},
   "outputs": [],
   "source": [
    "permuted = sitk.PermuteAxes( canonical, (2,0,1))\n",
    "flipped = sitk.Flip( permuted, (False,True,True))\n",
    "flipped.SetOrigin([-0.025, -0.025, 0.025])"
   ]
  },
  {
   "cell_type": "code",
   "execution_count": 5,
   "metadata": {},
   "outputs": [
    {
     "name": "stdout",
     "output_type": "stream",
     "text": [
      "validating output ...\n",
      "-- comparison PASSED\n"
     ]
    }
   ],
   "source": [
    "print( \"validating output ...\")\n",
    "\n",
    "modelArray = sitk.GetArrayFromImage( model )\n",
    "flippedArray = sitk.GetArrayFromImage( flipped )\n",
    "\n",
    "comparison = (modelArray == flippedArray )\n",
    "equal_arrays = comparison.all()\n",
    "\n",
    "if equal_arrays :\n",
    "    print( \"-- comparison PASSED\" ) \n",
    "else :\n",
    "    print( \"-- comparison FAILED\" )\n"
   ]
  },
  {
   "cell_type": "code",
   "execution_count": 18,
   "metadata": {},
   "outputs": [],
   "source": [
    "#\n",
    "# Validate the label volume\n",
    "#\n",
    "canonical_directory = \"C:/Users/lydia/OneDrive/Work/DigitalAssets/converted_mouse_ccf/\"\n",
    "canonical_file = os.path.join( canonical_directory, \"annotation/ccf_2017\", \"annotation_25.nii.gz\")\n",
    "\n",
    "model_directory = \"C:/Users/lydia/OneDrive/Work/DigitalAssets/_UPENN_fMOST/\"\n",
    "model_file = os.path.join( model_directory, \"25um_V3\", \"CCFTemplate25umLabels.nii.gz\")"
   ]
  },
  {
   "cell_type": "code",
   "execution_count": 19,
   "metadata": {},
   "outputs": [],
   "source": [
    "canonical = sitk.ReadImage( canonical_file )\n",
    "model = sitk.ReadImage( model_file )"
   ]
  },
  {
   "cell_type": "code",
   "execution_count": 20,
   "metadata": {},
   "outputs": [],
   "source": [
    "permuted = sitk.PermuteAxes( canonical, (2,0,1))\n",
    "flipped = sitk.Flip( permuted, (False,True,True))\n",
    "flipped.SetOrigin([-0.025, -0.025, 0.025])"
   ]
  },
  {
   "cell_type": "code",
   "execution_count": 21,
   "metadata": {},
   "outputs": [
    {
     "name": "stdout",
     "output_type": "stream",
     "text": [
      "validating output ...\n",
      "-- comparison PASSED\n"
     ]
    }
   ],
   "source": [
    "print( \"validating output ...\")\n",
    "\n",
    "modelArray = sitk.GetArrayFromImage( model )\n",
    "flippedArray = sitk.GetArrayFromImage( flipped )\n",
    "\n",
    "comparison = (modelArray == flippedArray )\n",
    "equal_arrays = comparison.all()\n",
    "\n",
    "if equal_arrays :\n",
    "    print( \"-- comparison PASSED\" ) \n",
    "else :\n",
    "    print( \"-- comparison FAILED\" )\n"
   ]
  },
  {
   "cell_type": "code",
   "execution_count": null,
   "metadata": {},
   "outputs": [],
   "source": []
  }
 ],
 "metadata": {
  "kernelspec": {
   "display_name": "Python 3",
   "language": "python",
   "name": "python3"
  },
  "language_info": {
   "codemirror_mode": {
    "name": "ipython",
    "version": 3
   },
   "file_extension": ".py",
   "mimetype": "text/x-python",
   "name": "python",
   "nbconvert_exporter": "python",
   "pygments_lexer": "ipython3",
   "version": "3.8.5"
  }
 },
 "nbformat": 4,
 "nbformat_minor": 4
}
