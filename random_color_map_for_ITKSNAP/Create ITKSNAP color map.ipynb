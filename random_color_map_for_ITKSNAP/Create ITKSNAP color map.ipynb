{
 "cells": [
  {
   "cell_type": "code",
   "execution_count": 1,
   "metadata": {},
   "outputs": [],
   "source": [
    "import json\n",
    "import pandas as pd\n",
    "import urllib3\n",
    "import SimpleITK as sitk\n",
    "import numpy as np\n",
    "import csv\n",
    "import os"
   ]
  },
  {
   "cell_type": "code",
   "execution_count": 2,
   "metadata": {},
   "outputs": [],
   "source": [
    "# ITKSNAP segementation description file format\n",
    "output_columns = {\n",
    "'IDX': 'uint16', # Zero-based index \n",
    "'-R-': 'uint8', # Red color component (0..255)\n",
    "'-G-': 'uint8', # Green color component (0..255)\n",
    "'-B-': 'uint8', # Blue color component (0..255)\n",
    "'-A-': 'float', # Label transparency (0.00 .. 1.00)\n",
    "'VIS': 'uint8', # Label visibility (0 or 1)\n",
    "'MSH': 'uint8', # Label mesh visibility (0 or 1)\n",
    "'LABEL': 'str' #Label description\n",
    "}"
   ]
  },
  {
   "cell_type": "code",
   "execution_count": 3,
   "metadata": {},
   "outputs": [],
   "source": [
    "# specify the structure graph from Allen API\n",
    "graph_id = 1"
   ]
  },
  {
   "cell_type": "code",
   "execution_count": 4,
   "metadata": {},
   "outputs": [],
   "source": [
    "# specify the location of the input annotation directory\n",
    "input_path = \"C:/Users/lydia/OneDrive/Work/DigitalAssets/converted_mouse_ccf/annotation/ccf_2017/\"\n",
    "output_path = \"C:/Users/lydia/OneDrive/Work/DigitalAssets/converted_mouse_ccf/annotation/ccf_2017/ITKSnap_Random_Color\""
   ]
  },
  {
   "cell_type": "code",
   "execution_count": 5,
   "metadata": {},
   "outputs": [],
   "source": [
    "if not os.path.exists(output_path) :\n",
    "    os.makedirs(output_path)"
   ]
  },
  {
   "cell_type": "code",
   "execution_count": 6,
   "metadata": {},
   "outputs": [],
   "source": [
    "# RMA query to fetch structures for the structure graph\n",
    "query_url = \"http://api.brain-map.org/api/v2/data/query.json?criteria=model::Structure\"\n",
    "query_url += \",rma::criteria,[graph_id$eq%d]\" % graph_id\n",
    "query_url += \",rma::options[order$eq'structures.id'][num_rows$eqall]\"\n",
    "\n",
    "# Make http request and create a pandas dataframe\n",
    "http = urllib3.PoolManager()\n",
    "r = http.request('GET', query_url)\n",
    "data = json.loads(r.data.decode('utf-8'))['msg']\n",
    "structures = pd.read_json( json.dumps(data) )\n"
   ]
  },
  {
   "cell_type": "code",
   "execution_count": 7,
   "metadata": {},
   "outputs": [],
   "source": [
    "# ITKSNAP description file columns\n",
    "structures['IDX'] = structures.index.values + 1  # simply add one to index\n",
    "structures['-A-'] = 1 # make structures opaque\n",
    "structures['VIS'] = 1 # make all structures visible\n",
    "structures['MSH'] = 1 # make all meshes visible\n",
    "structures['LABEL'] = structures['acronym'] + ' - ' + structures['id'].apply(str)\n",
    "\n",
    "np.random.seed(657)\n",
    "for c in ['-R-','-G-','-B-'] :\n",
    "    structures[c] = np.rint(np.random.uniform(0,255,size=len(structures)))\n",
    "    structures[c] = structures[c].astype(int)"
   ]
  },
  {
   "cell_type": "code",
   "execution_count": 8,
   "metadata": {},
   "outputs": [],
   "source": [
    "output_index_file = os.path.join(output_path, 'itksnap_label_description.txt')\n",
    "structures.to_csv( output_index_file, \n",
    "                        sep=' ', columns=output_columns, header=False, index=False, float_format='%.0f' )"
   ]
  },
  {
   "cell_type": "code",
   "execution_count": 9,
   "metadata": {},
   "outputs": [
    {
     "name": "stdout",
     "output_type": "stream",
     "text": [
      "converting C:/Users/lydia/OneDrive/Work/DigitalAssets/converted_mouse_ccf/annotation/ccf_2017/annotation_10.nii.gz\n",
      "converting C:/Users/lydia/OneDrive/Work/DigitalAssets/converted_mouse_ccf/annotation/ccf_2017/annotation_100.nii.gz\n",
      "converting C:/Users/lydia/OneDrive/Work/DigitalAssets/converted_mouse_ccf/annotation/ccf_2017/annotation_25.nii.gz\n",
      "converting C:/Users/lydia/OneDrive/Work/DigitalAssets/converted_mouse_ccf/annotation/ccf_2017/annotation_50.nii.gz\n"
     ]
    }
   ],
   "source": [
    "#\n",
    "# convert each file in the input directory\n",
    "#\n",
    "\n",
    "lut = np.zeros(int(max(structures.id.values)) + 1, np.uint32)\n",
    "lut[structures.id] = structures.IDX\n",
    "\n",
    "for f in os.scandir( input_path ):\n",
    "    if f.path.endswith(\".nii.gz\") and f.is_file():\n",
    "        \n",
    "        print(\"converting %s\" % f.path)\n",
    "        \n",
    "        inputImage = sitk.ReadImage(f.path)\n",
    "        arr = sitk.GetArrayFromImage(inputImage)\n",
    "        arr = np.take( lut, arr )\n",
    "        outputImage = sitk.GetImageFromArray( arr )\n",
    "        outputImage.CopyInformation( inputImage )\n",
    "        \n",
    "        output_file = os.path.join( output_path, os.path.basename(f))\n",
    "        sitk.WriteImage( outputImage, output_file, True )\n",
    "        \n"
   ]
  },
  {
   "cell_type": "code",
   "execution_count": null,
   "metadata": {},
   "outputs": [],
   "source": []
  }
 ],
 "metadata": {
  "kernelspec": {
   "display_name": "Python 3",
   "language": "python",
   "name": "python3"
  },
  "language_info": {
   "codemirror_mode": {
    "name": "ipython",
    "version": 3
   },
   "file_extension": ".py",
   "mimetype": "text/x-python",
   "name": "python",
   "nbconvert_exporter": "python",
   "pygments_lexer": "ipython3",
   "version": "3.8.5"
  }
 },
 "nbformat": 4,
 "nbformat_minor": 4
}
