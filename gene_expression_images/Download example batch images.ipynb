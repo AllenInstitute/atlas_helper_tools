{
 "cells": [
  {
   "cell_type": "code",
   "execution_count": 1,
   "metadata": {},
   "outputs": [],
   "source": [
    "import gene_expression_helper as helper\n",
    "import alignment_helper as algn\n",
    "import pandas as pd\n",
    "import os\n",
    "import numpy as np"
   ]
  },
  {
   "cell_type": "code",
   "execution_count": 2,
   "metadata": {},
   "outputs": [],
   "source": [
    "input_directory = \"C:/Users/lydia/OneDrive/Work/DigitalAssets/dev_mouse_gene_expression\"\n",
    "df = pd.read_csv( os.path.join(input_directory,\"section_datasets_metadata.csv\"))"
   ]
  },
  {
   "cell_type": "code",
   "execution_count": 3,
   "metadata": {},
   "outputs": [
    {
     "data": {
      "text/plain": [
       "16"
      ]
     },
     "execution_count": 3,
     "metadata": {},
     "output_type": "execute_result"
    }
   ],
   "source": [
    "#\n",
    "# First batch (Nkx2-1,Pax6,Foxp2) at (E13.5, P4, P56)\n",
    "#\n",
    "\n",
    "ff = df[df['product_name'] == 'Developing Mouse Brain']\n",
    "ff = ff[[v in ['E13.5','P4','P56'] for v in ff['age']]]\n",
    "ff = ff[[v in ['Nkx2-1','Pax6','Foxp2'] for v in ff['gene_symbol']]]\n",
    "len(ff)"
   ]
  },
  {
   "cell_type": "code",
   "execution_count": 4,
   "metadata": {},
   "outputs": [
    {
     "data": {
      "text/plain": [
       "62"
      ]
     },
     "execution_count": 4,
     "metadata": {},
     "output_type": "execute_result"
    }
   ],
   "source": [
    "#\n",
    "# Other images series from the same specimen may be useful for registration\n",
    "#\n",
    "specimen_list = np.unique(ff['specimen_id'])\n",
    "sf = df[[v in specimen_list for v in df['specimen_id']]]\n",
    "len(sf)"
   ]
  },
  {
   "cell_type": "code",
   "execution_count": 5,
   "metadata": {},
   "outputs": [],
   "source": [
    "output_directory = \"C:/Users/lydia/OneDrive/Work/DigitalAssets/dev_mouse_gene_expression/example_batch\"\n",
    "atlas_directory = \"C:/Users/lydia/OneDrive/Work/DigitalAssets/atlas_models\"\n",
    "\n",
    "# make output directory\n",
    "if not os.path.exists( output_directory ) :\n",
    "    os.makedirs( output_directory )"
   ]
  },
  {
   "cell_type": "code",
   "execution_count": 6,
   "metadata": {},
   "outputs": [],
   "source": [
    "output_file = os.path.join( output_directory, \"section_datasets_metadata.csv\")\n",
    "sf.to_csv(output_file, index=False)"
   ]
  },
  {
   "cell_type": "code",
   "execution_count": 7,
   "metadata": {},
   "outputs": [
    {
     "name": "stdout",
     "output_type": "stream",
     "text": [
      "C:/Users/lydia/OneDrive/Work/DigitalAssets/dev_mouse_gene_expression/example_batch\\549\\section_images\n",
      "C:/Users/lydia/OneDrive/Work/DigitalAssets/dev_mouse_gene_expression/example_batch\\764\\section_images\n",
      "C:/Users/lydia/OneDrive/Work/DigitalAssets/dev_mouse_gene_expression/example_batch\\727\\section_images\n",
      "C:/Users/lydia/OneDrive/Work/DigitalAssets/dev_mouse_gene_expression/example_batch\\1144\\section_images\n",
      "C:/Users/lydia/OneDrive/Work/DigitalAssets/dev_mouse_gene_expression/example_batch\\68918262\\section_images\n",
      "C:/Users/lydia/OneDrive/Work/DigitalAssets/dev_mouse_gene_expression/example_batch\\70445269\\section_images\n",
      "C:/Users/lydia/OneDrive/Work/DigitalAssets/dev_mouse_gene_expression/example_batch\\70445281\\section_images\n",
      "C:/Users/lydia/OneDrive/Work/DigitalAssets/dev_mouse_gene_expression/example_batch\\72079959\\section_images\n",
      "C:/Users/lydia/OneDrive/Work/DigitalAssets/dev_mouse_gene_expression/example_batch\\72079884\\section_images\n",
      "C:/Users/lydia/OneDrive/Work/DigitalAssets/dev_mouse_gene_expression/example_batch\\72079931\\section_images\n",
      "C:/Users/lydia/OneDrive/Work/DigitalAssets/dev_mouse_gene_expression/example_batch\\72080006\\section_images\n",
      "C:/Users/lydia/OneDrive/Work/DigitalAssets/dev_mouse_gene_expression/example_batch\\74988458\\section_images\n",
      "C:/Users/lydia/OneDrive/Work/DigitalAssets/dev_mouse_gene_expression/example_batch\\74988460\\section_images\n",
      "C:/Users/lydia/OneDrive/Work/DigitalAssets/dev_mouse_gene_expression/example_batch\\79677341\\section_images\n",
      "C:/Users/lydia/OneDrive/Work/DigitalAssets/dev_mouse_gene_expression/example_batch\\79677343\\section_images\n",
      "C:/Users/lydia/OneDrive/Work/DigitalAssets/dev_mouse_gene_expression/example_batch\\79677107\\section_images\n",
      "C:/Users/lydia/OneDrive/Work/DigitalAssets/dev_mouse_gene_expression/example_batch\\79677145\\section_images\n",
      "C:/Users/lydia/OneDrive/Work/DigitalAssets/dev_mouse_gene_expression/example_batch\\100026519\\section_images\n",
      "C:/Users/lydia/OneDrive/Work/DigitalAssets/dev_mouse_gene_expression/example_batch\\100031932\\section_images\n",
      "C:/Users/lydia/OneDrive/Work/DigitalAssets/dev_mouse_gene_expression/example_batch\\100032091\\section_images\n",
      "C:/Users/lydia/OneDrive/Work/DigitalAssets/dev_mouse_gene_expression/example_batch\\100032086\\section_images\n",
      "C:/Users/lydia/OneDrive/Work/DigitalAssets/dev_mouse_gene_expression/example_batch\\100031943\\section_images\n",
      "C:/Users/lydia/OneDrive/Work/DigitalAssets/dev_mouse_gene_expression/example_batch\\100031793\\section_images\n",
      "C:/Users/lydia/OneDrive/Work/DigitalAssets/dev_mouse_gene_expression/example_batch\\100031918\\section_images\n",
      "C:/Users/lydia/OneDrive/Work/DigitalAssets/dev_mouse_gene_expression/example_batch\\100031929\\section_images\n",
      "C:/Users/lydia/OneDrive/Work/DigitalAssets/dev_mouse_gene_expression/example_batch\\100051576\\section_images\n",
      "C:/Users/lydia/OneDrive/Work/DigitalAssets/dev_mouse_gene_expression/example_batch\\100051577\\section_images\n",
      "C:/Users/lydia/OneDrive/Work/DigitalAssets/dev_mouse_gene_expression/example_batch\\100051579\\section_images\n",
      "C:/Users/lydia/OneDrive/Work/DigitalAssets/dev_mouse_gene_expression/example_batch\\100051578\\section_images\n",
      "C:/Users/lydia/OneDrive/Work/DigitalAssets/dev_mouse_gene_expression/example_batch\\100051626\\section_images\n",
      "C:/Users/lydia/OneDrive/Work/DigitalAssets/dev_mouse_gene_expression/example_batch\\100051632\\section_images\n",
      "C:/Users/lydia/OneDrive/Work/DigitalAssets/dev_mouse_gene_expression/example_batch\\100051665\\section_images\n",
      "C:/Users/lydia/OneDrive/Work/DigitalAssets/dev_mouse_gene_expression/example_batch\\100051644\\section_images\n",
      "C:/Users/lydia/OneDrive/Work/DigitalAssets/dev_mouse_gene_expression/example_batch\\100051652\\section_images\n",
      "C:/Users/lydia/OneDrive/Work/DigitalAssets/dev_mouse_gene_expression/example_batch\\100051664\\section_images\n",
      "C:/Users/lydia/OneDrive/Work/DigitalAssets/dev_mouse_gene_expression/example_batch\\100056193\\section_images\n",
      "C:/Users/lydia/OneDrive/Work/DigitalAssets/dev_mouse_gene_expression/example_batch\\100056194\\section_images\n",
      "C:/Users/lydia/OneDrive/Work/DigitalAssets/dev_mouse_gene_expression/example_batch\\100056197\\section_images\n",
      "C:/Users/lydia/OneDrive/Work/DigitalAssets/dev_mouse_gene_expression/example_batch\\100056233\\section_images\n",
      "C:/Users/lydia/OneDrive/Work/DigitalAssets/dev_mouse_gene_expression/example_batch\\100056196\\section_images\n",
      "C:/Users/lydia/OneDrive/Work/DigitalAssets/dev_mouse_gene_expression/example_batch\\100056232\\section_images\n",
      "C:/Users/lydia/OneDrive/Work/DigitalAssets/dev_mouse_gene_expression/example_batch\\100056279\\section_images\n",
      "C:/Users/lydia/OneDrive/Work/DigitalAssets/dev_mouse_gene_expression/example_batch\\100092348\\section_images\n",
      "C:/Users/lydia/OneDrive/Work/DigitalAssets/dev_mouse_gene_expression/example_batch\\100093826\\section_images\n",
      "C:/Users/lydia/OneDrive/Work/DigitalAssets/dev_mouse_gene_expression/example_batch\\100059120\\section_images\n",
      "C:/Users/lydia/OneDrive/Work/DigitalAssets/dev_mouse_gene_expression/example_batch\\100059121\\section_images\n",
      "C:/Users/lydia/OneDrive/Work/DigitalAssets/dev_mouse_gene_expression/example_batch\\100093185\\section_images\n",
      "C:/Users/lydia/OneDrive/Work/DigitalAssets/dev_mouse_gene_expression/example_batch\\100059122\\section_images\n",
      "C:/Users/lydia/OneDrive/Work/DigitalAssets/dev_mouse_gene_expression/example_batch\\100059142\\section_images\n",
      "C:/Users/lydia/OneDrive/Work/DigitalAssets/dev_mouse_gene_expression/example_batch\\100058812\\section_images\n",
      "C:/Users/lydia/OneDrive/Work/DigitalAssets/dev_mouse_gene_expression/example_batch\\100093652\\section_images\n",
      "C:/Users/lydia/OneDrive/Work/DigitalAssets/dev_mouse_gene_expression/example_batch\\100092345\\section_images\n",
      "C:/Users/lydia/OneDrive/Work/DigitalAssets/dev_mouse_gene_expression/example_batch\\100092349\\section_images\n",
      "C:/Users/lydia/OneDrive/Work/DigitalAssets/dev_mouse_gene_expression/example_batch\\100059123\\section_images\n",
      "C:/Users/lydia/OneDrive/Work/DigitalAssets/dev_mouse_gene_expression/example_batch\\100093367\\section_images\n",
      "C:/Users/lydia/OneDrive/Work/DigitalAssets/dev_mouse_gene_expression/example_batch\\100093827\\section_images\n",
      "C:/Users/lydia/OneDrive/Work/DigitalAssets/dev_mouse_gene_expression/example_batch\\100059117\\section_images\n",
      "C:/Users/lydia/OneDrive/Work/DigitalAssets/dev_mouse_gene_expression/example_batch\\100059119\\section_images\n",
      "C:/Users/lydia/OneDrive/Work/DigitalAssets/dev_mouse_gene_expression/example_batch\\100093198\\section_images\n",
      "C:/Users/lydia/OneDrive/Work/DigitalAssets/dev_mouse_gene_expression/example_batch\\100093830\\section_images\n",
      "C:/Users/lydia/OneDrive/Work/DigitalAssets/dev_mouse_gene_expression/example_batch\\100093336\\section_images\n",
      "C:/Users/lydia/OneDrive/Work/DigitalAssets/dev_mouse_gene_expression/example_batch\\100093365\\section_images\n"
     ]
    }
   ],
   "source": [
    "resample = True\n",
    "\n",
    "for index, row in sf.iterrows() :\n",
    "    \n",
    "    downsample_factor = 3\n",
    "    product_id = 3\n",
    "    dataset_id = row['section_dataset_id']\n",
    "    \n",
    "    dataset_directory = os.path.join(output_directory, str(dataset_id))\n",
    "    metadata_path = os.path.join(dataset_directory, \"metadata_%d.json\" % (dataset_id) )\n",
    "    image_directory = os.path.join(dataset_directory,'section_images')\n",
    "    alignment_json = os.path.join(dataset_directory, \"alignment_%d.json\" % (dataset_id) )\n",
    "    \n",
    "    print(image_directory)\n",
    "    \n",
    "    # make output directory\n",
    "    if not os.path.exists( image_directory ) :\n",
    "        os.makedirs( image_directory )\n",
    "        \n",
    "    helper.download_images(dataset_id,image_directory,downsample_factor)\n",
    "    helper.download_metadata( dataset_id, metadata_path, product_id )\n",
    "    helper.download_alignment_parameters( dataset_id, alignment_json, product_id )\n",
    "    \n",
    "    if resample :\n",
    "        \n",
    "        #\n",
    "        # Use the alignment parameters to create reconstructed and registered volumes\n",
    "        #\n",
    "        xform = algn.read_json( alignment_json)\n",
    "\n",
    "        # generate reconstructed volume\n",
    "        output = algn.initialize_output( xform, atlas_directory, downsample_factor )\n",
    "        algn.populate_output( xform, image_directory, downsample_factor, output, algn.BLUECHANNEL )\n",
    "\n",
    "        # read atlas\n",
    "        atlas = algn.read_atlas( atlas_directory, xform['age'], xform['plane_of_section'])\n",
    "\n",
    "        # generate registered volumes\n",
    "        algn.resample_to_atlas( xform, atlas, output )\n",
    "\n",
    "        # write data to output\n",
    "        resampled_directory = os.path.join( dataset_directory, 'resampled')\n",
    "        os.makedirs( resampled_directory, exist_ok = True )\n",
    "        algn.write_volumes( output, resampled_directory )    \n",
    "        \n",
    "    "
   ]
  },
  {
   "cell_type": "code",
   "execution_count": null,
   "metadata": {},
   "outputs": [],
   "source": []
  }
 ],
 "metadata": {
  "kernelspec": {
   "display_name": "Python 3",
   "language": "python",
   "name": "python3"
  },
  "language_info": {
   "codemirror_mode": {
    "name": "ipython",
    "version": 3
   },
   "file_extension": ".py",
   "mimetype": "text/x-python",
   "name": "python",
   "nbconvert_exporter": "python",
   "pygments_lexer": "ipython3",
   "version": "3.8.5"
  }
 },
 "nbformat": 4,
 "nbformat_minor": 4
}
