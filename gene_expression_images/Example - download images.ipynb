{
 "cells": [
  {
   "cell_type": "code",
   "execution_count": 2,
   "metadata": {},
   "outputs": [
    {
     "name": "stdout",
     "output_type": "stream",
     "text": [
      "32 113970954\n",
      "36 113970956\n",
      "16 113970968\n",
      "52 113970942\n",
      "56 113970944\n",
      "4 113970962\n",
      "12 113970966\n",
      "68 113970928\n",
      "44 113970938\n",
      "76 113970932\n",
      "24 113970950\n",
      "28 113970952\n",
      "48 113970940\n",
      "8 113970964\n",
      "72 113970930\n",
      "64 113970926\n"
     ]
    }
   ],
   "source": [
    "import gene_expression_helper as helper\n",
    "import os\n",
    "\n",
    "#\n",
    "# Example python code to download images for an image series\n",
    "#\n",
    "# Find the image series you want from the Allen Brain Atlas portal\n",
    "# Take a note of the dataset id\n",
    "#\n",
    "\n",
    "# Specify output directory for images\n",
    "output_directory = \"temp/section_images\"\n",
    "\n",
    "# Specify downsample factor\n",
    "downsample_factor = 3\n",
    "\n",
    "# Copy the dataset id here\n",
    "dataset_id = 113970924\n",
    "\n",
    "# make output directory\n",
    "if not os.path.exists( output_directory ) :\n",
    "    os.makedirs( output_directory )\n",
    "\n",
    "# download images\n",
    "helper.download_images(dataset_id,output_directory,downsample_factor)"
   ]
  },
  {
   "cell_type": "code",
   "execution_count": null,
   "metadata": {},
   "outputs": [],
   "source": []
  },
  {
   "cell_type": "code",
   "execution_count": null,
   "metadata": {},
   "outputs": [],
   "source": []
  }
 ],
 "metadata": {
  "kernelspec": {
   "display_name": "Python 3",
   "language": "python",
   "name": "python3"
  },
  "language_info": {
   "codemirror_mode": {
    "name": "ipython",
    "version": 3
   },
   "file_extension": ".py",
   "mimetype": "text/x-python",
   "name": "python",
   "nbconvert_exporter": "python",
   "pygments_lexer": "ipython3",
   "version": "3.8.5"
  }
 },
 "nbformat": 4,
 "nbformat_minor": 4
}
