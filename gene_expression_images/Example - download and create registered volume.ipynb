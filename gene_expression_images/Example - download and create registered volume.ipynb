{
 "cells": [
  {
   "cell_type": "code",
   "execution_count": 1,
   "metadata": {},
   "outputs": [],
   "source": [
    "import gene_expression_helper as helper\n",
    "import alignment_helper as algn\n",
    "import os\n",
    "import SimpleITK as sitk\n",
    "\n",
    "#\n",
    "# Example python code to demostrate for an image-series how to\n",
    "# download metadata, downsampled images, registration parameter\n",
    "# and create registered volumes\n",
    "#\n",
    "# Find the image series you want from the Allen Brain Atlas portal\n",
    "# Take a note of the dataset id\n",
    "#\n",
    "\n",
    "# Copy the dataset id here\n",
    "dataset_id = 100054762\n",
    "product_id = 3\n",
    "\n",
    "# Specify output directory\n",
    "output_directory = os.path.join('temp','%d' % dataset_id )\n",
    "os.makedirs( output_directory, exist_ok = True )\n",
    "\n",
    "# Specify downsample factor\n",
    "downsample_factor = 3\n",
    "\n",
    "# Location of atlas directory\n",
    "atlas_directory = r'C:\\Users\\lydia\\OneDrive\\Work\\DigitalAssets\\atlas_models'"
   ]
  },
  {
   "cell_type": "code",
   "execution_count": 2,
   "metadata": {},
   "outputs": [],
   "source": [
    "#\n",
    "# Download metadata\n",
    "# - The output json file contains all the information an experiment page\n",
    "# - Example: http://developingmouse.brain-map.org/experiment/show/100076465\n",
    "#\n",
    "metadata_json = os.path.join(output_directory, \"metadata_%d.json\" % (dataset_id) )\n",
    "helper.download_metadata( dataset_id, metadata_json, product_id )"
   ]
  },
  {
   "cell_type": "code",
   "execution_count": 3,
   "metadata": {},
   "outputs": [],
   "source": [
    "#\n",
    "# Download downsampled images\n",
    "#\n",
    "image_directory = os.path.join( output_directory, 'section_images' )\n",
    "os.makedirs( image_directory, exist_ok = True )\n",
    "helper.download_images(dataset_id,image_directory,downsample_factor)"
   ]
  },
  {
   "cell_type": "code",
   "execution_count": 4,
   "metadata": {},
   "outputs": [],
   "source": [
    "#\n",
    "# Download alignment parameters\n",
    "# - The output json file contains all the alignment parameters \n",
    "# - computed as part of the informatics processing pipeline\n",
    "#\n",
    "alignment_json = os.path.join(output_directory, \"alignment_%d.json\" % (dataset_id) )\n",
    "helper.download_alignment_parameters( dataset_id, alignment_json, product_id )"
   ]
  },
  {
   "cell_type": "code",
   "execution_count": 5,
   "metadata": {},
   "outputs": [],
   "source": [
    "#\n",
    "# Use the alignment parameters to create reconstructed and registered volumes\n",
    "#\n",
    "xform = algn.read_json( alignment_json)\n",
    "\n",
    "# generate reconstructed volume\n",
    "output = algn.initialize_output( xform, atlas_directory, downsample_factor )\n",
    "algn.populate_output( xform, image_directory, downsample_factor, output, algn.BLUECHANNEL )\n",
    "\n",
    "# read atlas\n",
    "atlas = algn.read_atlas( atlas_directory, xform['age'], xform['plane_of_section'])\n",
    "\n",
    "# generate registered volumes\n",
    "algn.resample_to_atlas( xform, atlas, output )\n",
    "\n",
    "# write data to output\n",
    "resampled_directory = os.path.join( output_directory, 'resampled')\n",
    "os.makedirs( resampled_directory, exist_ok = True )\n",
    "algn.write_volumes( output, resampled_directory )\n",
    "\n",
    "#\n",
    "# output files\n",
    "#\n",
    "# volume: a 3D reconstruction from the downsampled images\n",
    "# mask: non-zero value indiciate which section has valid image data\n",
    "# resampled_volume: reconstructed volume registered to age-plane matched atlas\n",
    "# resampled_mask: non-zero value indicate which section has valid image data\n",
    "# resampled_atlas: age-plane matched atlas registered to the reconstruction ISH volume\n",
    "#"
   ]
  },
  {
   "cell_type": "code",
   "execution_count": null,
   "metadata": {},
   "outputs": [],
   "source": []
  }
 ],
 "metadata": {
  "kernelspec": {
   "display_name": "Python 3",
   "language": "python",
   "name": "python3"
  },
  "language_info": {
   "codemirror_mode": {
    "name": "ipython",
    "version": 3
   },
   "file_extension": ".py",
   "mimetype": "text/x-python",
   "name": "python",
   "nbconvert_exporter": "python",
   "pygments_lexer": "ipython3",
   "version": "3.8.5"
  }
 },
 "nbformat": 4,
 "nbformat_minor": 4
}
