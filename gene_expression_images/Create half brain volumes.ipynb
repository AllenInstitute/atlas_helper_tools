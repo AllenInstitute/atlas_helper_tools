{
 "cells": [
  {
   "cell_type": "code",
   "execution_count": 1,
   "id": "fa2726d9",
   "metadata": {},
   "outputs": [],
   "source": [
    "import SimpleITK as sitk\n",
    "import os\n",
    "import numpy as np\n",
    "import pandas as pd"
   ]
  },
  {
   "cell_type": "code",
   "execution_count": 2,
   "id": "b40ab21d",
   "metadata": {},
   "outputs": [],
   "source": [
    "def reorient_to_half_brain( full_brain_input, half_brain_reference, left_hemisphere = False) :\n",
    "    \n",
    "    output = sitk.PermuteAxes( full_brain_input, (2,0,1) )\n",
    "    if left_hemisphere :\n",
    "        output = sitk.Flip( output, (False,True,True), False )\n",
    "    else :\n",
    "        output = sitk.Flip( output, (True,True,True), False )\n",
    "        \n",
    "    cropSize = np.subtract( output.GetSize(), half_brain_reference.GetSize() ).tolist()\n",
    "\n",
    "    # need to shift\n",
    "    output = sitk.CyclicShift(output, (-1,0,0))\n",
    "    output = sitk.Crop( output, (0,0,0), cropSize )\n",
    "\n",
    "    output.CopyInformation( half_brain_reference )\n",
    "    \n",
    "    return output\n"
   ]
  },
  {
   "cell_type": "code",
   "execution_count": 3,
   "id": "343de03c",
   "metadata": {},
   "outputs": [],
   "source": [
    "base_directory = r\"\\\\allen\\aibs\\ccf\\mouse_gene_expression\\202201121424_batch\"\n",
    "manifest_file = os.path.join( base_directory, 'manifest.csv')\n",
    "df = pd.read_csv( manifest_file )"
   ]
  },
  {
   "cell_type": "code",
   "execution_count": 4,
   "id": "fb5fb6ab",
   "metadata": {},
   "outputs": [],
   "source": [
    "atlas_directory =  r'C:\\Users\\LydiaN\\OneDrive - Personal\\OneDrive\\Work\\DigitalAssets\\ccf_models'\n",
    "reference_file = os.path.join( atlas_directory, 'annotation_templates', 'avg_template_10x10x10_half.nii.gz')\n",
    "half_brain_reference = sitk.ReadImage( reference_file )"
   ]
  },
  {
   "cell_type": "code",
   "execution_count": 5,
   "id": "d735c504",
   "metadata": {},
   "outputs": [
    {
     "name": "stdout",
     "output_type": "stream",
     "text": [
      "Ace-73512499\n",
      "Acvrl1-79488929\n",
      "Ano2-71587834\n",
      "Arpp21-71587781\n",
      "Astn2-74047748\n",
      "Calb1-71717640\n",
      "Cnr1-79591675\n",
      "Col6a1-77869097\n",
      "Col6a1-290\n",
      "Cpne6-73769322\n",
      "Crym-73592526\n",
      "Ctxn1-74586669\n",
      "Cxcl14-74272041\n",
      "Dclk3-72079921\n",
      "Deptor-76135830\n",
      "Dusp6-75650864\n",
      "Fos-79912554\n",
      "Foxp2-72079884\n",
      "Gpr26-70562057\n",
      "Gpr83-72338696\n",
      "Grp155-70562055\n",
      "Grik2-71247618\n",
      "Gucy1a3-77866848\n",
      "Hpa1-552\n",
      "Hpcal4-73520985\n",
      "Id4-74357547\n",
      "Kcnf1-71358578\n",
      "Kcnf2-75147764\n",
      "Krt9-71670723\n",
      "LOC381355-71924491\n",
      "LOC434002-74581371\n",
      "Man1a-69120618\n",
      "Mef2c-79567505\n",
      "Mme-77371755\n",
      "Nefm-73817434\n",
      "Nell2-72103854\n",
      "Nfxl1-76135740\n",
      "Nts-73788032\n",
      "Pdyn-71717084\n",
      "Pdza2-74988286\n",
      "Ptn-77866882\n",
      "Rcn1-79591573\n",
      "Trip2-72283809\n",
      "Sv2b-72104171\n",
      "Thsd7a-71924155\n",
      "Tiam1-72283789\n",
      "Tmtc1-73636154\n",
      "Wfs1-74881161\n",
      "Zbtb20-79568020\n"
     ]
    }
   ],
   "source": [
    "for index, row in df.iterrows() :\n",
    "    \n",
    "    print(row['directory_name'])\n",
    "    dataset_directory = os.path.join( base_directory, row['directory_name'] )\n",
    "    output_directory = os.path.join( dataset_directory, 'half_brain' )\n",
    "    os.makedirs( output_directory, exist_ok = True )\n",
    "    \n",
    "    for v in ['resampled_volume', 'resampled_expression'] :\n",
    "        \n",
    "        input_file = os.path.join( dataset_directory, 'resampled', '%s.nii.gz' % v )\n",
    "        full_brain_input = sitk.ReadImage( input_file )\n",
    "        \n",
    "        for h in ['left', 'right'] :\n",
    "            \n",
    "            if h == 'left' :\n",
    "                output = reorient_to_half_brain( full_brain_input, half_brain_reference, True )\n",
    "            else :\n",
    "                output = reorient_to_half_brain( full_brain_input, half_brain_reference, False )\n",
    "                \n",
    "            output_file = os.path.join( output_directory, '%s_%s.nii.gz' % (h,v) )\n",
    "            sitk.WriteImage( output, output_file, True )\n",
    "            \n",
    "            "
   ]
  },
  {
   "cell_type": "code",
   "execution_count": null,
   "id": "048f2bcc",
   "metadata": {},
   "outputs": [],
   "source": []
  }
 ],
 "metadata": {
  "kernelspec": {
   "display_name": "Python 3 (ipykernel)",
   "language": "python",
   "name": "python3"
  },
  "language_info": {
   "codemirror_mode": {
    "name": "ipython",
    "version": 3
   },
   "file_extension": ".py",
   "mimetype": "text/x-python",
   "name": "python",
   "nbconvert_exporter": "python",
   "pygments_lexer": "ipython3",
   "version": "3.9.7"
  }
 },
 "nbformat": 4,
 "nbformat_minor": 5
}
