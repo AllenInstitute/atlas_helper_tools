{
 "cells": [
  {
   "cell_type": "code",
   "execution_count": 3,
   "metadata": {},
   "outputs": [],
   "source": [
    "import gene_expression_helper as helper\n",
    "import os\n",
    "\n",
    "#\n",
    "# Example python code to download metadata an image series\n",
    "#\n",
    "# Find the image series you want from the Allen Brain Atlas portal\n",
    "# Take a note of the dataset id\n",
    "#\n",
    "\n",
    "# Specify output directory for images\n",
    "output_directory = \"temp\"\n",
    "\n",
    "# Copy the dataset id here\n",
    "dataset_id = 113970924\n",
    "product_id = 3\n",
    "\n",
    "# make output directory\n",
    "if not os.path.exists( output_directory ) :\n",
    "    os.makedirs( output_directory )\n",
    "    \n",
    "# generate output file name\n",
    "metadata_path = os.path.join(output_directory, \"metadata_%d.json\" % (dataset_id) )\n",
    "\n",
    "# download metadata\n",
    "helper.download_metadata( dataset_id, metadata_path, product_id )\n"
   ]
  },
  {
   "cell_type": "code",
   "execution_count": null,
   "metadata": {},
   "outputs": [],
   "source": []
  }
 ],
 "metadata": {
  "kernelspec": {
   "display_name": "Python 3",
   "language": "python",
   "name": "python3"
  },
  "language_info": {
   "codemirror_mode": {
    "name": "ipython",
    "version": 3
   },
   "file_extension": ".py",
   "mimetype": "text/x-python",
   "name": "python",
   "nbconvert_exporter": "python",
   "pygments_lexer": "ipython3",
   "version": "3.8.5"
  }
 },
 "nbformat": 4,
 "nbformat_minor": 4
}
